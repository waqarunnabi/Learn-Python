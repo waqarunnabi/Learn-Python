{
 "cells": [
  {
   "cell_type": "markdown",
   "id": "9d62c052",
   "metadata": {},
   "source": [
    "# 18-09-22"
   ]
  },
  {
   "cell_type": "code",
   "execution_count": 1,
   "id": "8e647563",
   "metadata": {},
   "outputs": [],
   "source": [
    "a = \"\"\"A function is a block of Python code that robotically does the same thing\n",
    "again and again, whenever you invoke its name. It saves you repetitive\n",
    "coding and makes your code easier to understand.\n",
    "We'll start with a trivially simple example. Let's say you want to add two\n",
    "numbers and display the result\"\"\"\n"
   ]
  },
  {
   "cell_type": "code",
   "execution_count": 2,
   "id": "60a8bdba",
   "metadata": {},
   "outputs": [
    {
     "name": "stdout",
     "output_type": "stream",
     "text": [
      "A function is a block of Python code that robotically does the same thing\n",
      "again and again, whenever you invoke its name. It saves you repetitive\n",
      "coding and makes your code easier to understand.\n",
      "We'll start with a trivially simple example. Let's say you want to add two\n",
      "numbers and display the result\n"
     ]
    }
   ],
   "source": [
    "print(a)"
   ]
  },
  {
   "cell_type": "code",
   "execution_count": 3,
   "id": "4c29fae2",
   "metadata": {},
   "outputs": [
    {
     "name": "stdout",
     "output_type": "stream",
     "text": [
      "53 ['A', 'function', 'is', 'a', 'block', 'of', 'Python', 'code', 'that', 'robotically', 'does', 'the', 'same', 'thing', 'again', 'and', 'again,', 'whenever', 'you', 'invoke', 'its', 'name.', 'It', 'saves', 'you', 'repetitive', 'coding', 'and', 'makes', 'your', 'code', 'easier', 'to', 'understand.', \"We'll\", 'start', 'with', 'a', 'trivially', 'simple', 'example.', \"Let's\", 'say', 'you', 'want', 'to', 'add', 'two', 'numbers', 'and', 'display', 'the', 'result']\n",
      "False\n"
     ]
    }
   ],
   "source": [
    "word_list = a.split()\n",
    "print(len(word_list),word_list )\n",
    "print('call' in word_list)"
   ]
  },
  {
   "cell_type": "code",
   "execution_count": 4,
   "id": "ba4c7b78",
   "metadata": {},
   "outputs": [],
   "source": [
    "customers = {\n",
    "0: {\"first name\":\"John\",\n",
    "    \"last name\": \"Ogden\",\n",
    "    \"address\": \"301 Arbor Rd.\",\n",
    "  },\n",
    "1:{ \"first name\":\"Ann\",\n",
    "    \"last name\": \"Sattermyer\",\n",
    "    \"address\": \"PO Box 1145\",\n",
    "  },\n",
    "2: { \"first name\":\"Jill\",\n",
    "      \"last name\": \"Somers\",\n",
    "      \"address\": \"3 Main St.\",\n",
    "    },\n",
    " }\n",
    "\n",
    "def find_something(dict, inner_dict, target):\n",
    "   data = dict[inner_dict]\n",
    "   print(data[target])\n",
    "    \n",
    "   print(dict[inner_dict][target])"
   ]
  },
  {
   "cell_type": "code",
   "execution_count": 5,
   "id": "5657b768",
   "metadata": {},
   "outputs": [
    {
     "name": "stdout",
     "output_type": "stream",
     "text": [
      "Somers\n",
      "Somers\n"
     ]
    }
   ],
   "source": [
    "find_something(customers, 2, \"last name\")"
   ]
  },
  {
   "cell_type": "code",
   "execution_count": 6,
   "id": "7ba43f49",
   "metadata": {},
   "outputs": [
    {
     "name": "stdout",
     "output_type": "stream",
     "text": [
      "None\n"
     ]
    }
   ],
   "source": [
    "def display_nums(basic_salary, house_rent, **other_benifits):\n",
    "  x = basic_salary + house_rent\n",
    "  \n",
    "# print(display_nums(100, 200, overtime=300, bonus=200))\n",
    "display_nums(100, 200, overtime=300)\n",
    "y =display_nums(100, 200)\n",
    "print(y)\n"
   ]
  },
  {
   "cell_type": "code",
   "execution_count": 7,
   "id": "579e9b8a",
   "metadata": {},
   "outputs": [
    {
     "name": "stdout",
     "output_type": "stream",
     "text": [
      "Nasir Khan\n",
      "Nasir Khan\n",
      "Nasir Khan is Minor\n",
      "Naseer Khan\n",
      "done\n"
     ]
    }
   ],
   "source": [
    "import csv\n",
    "\n",
    "def testing():\n",
    "  print(\"hello python\")\n",
    "  return \"hello python\"\n",
    "class Patient():\n",
    "\n",
    "  def __init__(self, last_name, first_name, age):\n",
    "    self.last_name = last_name\n",
    "    self.first_name = first_name\n",
    "    self.age = age\n",
    "\n",
    "  def get_fullname(self):\n",
    "    full_name = self.first_name +  \" \" + self.last_name\n",
    "    print(full_name)\n",
    "    return full_name\n",
    "\n",
    "  def get_fullname_with_sir(self):\n",
    "    return \"sir. \" + self.get_fullname()\n",
    "\n",
    "  def get_short_name(self):\n",
    "    ''' first letter of first name and complete last name '''\n",
    "    ret_value = self.first_name[0] + \" \" + self.last_name\n",
    "    print(ret_value)\n",
    "    return ret_value\n",
    "\n",
    "  def is_minor(self):\n",
    "    ret_value = \"Not Minor\"\n",
    "    if self.age < 21:\n",
    "      ret_value = \"Minor\"\n",
    "\n",
    "    ret_value = self.get_fullname() + \" is \" + ret_value\n",
    "    \n",
    "    print(ret_value)\n",
    "    # return ret_value\n",
    "\n",
    "def main():\n",
    "  patient_4343 = Patient(\"Khan\", \"Nasir\", 15)\n",
    "\n",
    "  patient_4343.get_fullname()\n",
    "  patient_4343.is_minor()\n",
    "\n",
    "  patient_4355 = Patient(\"Shah\", \"Kamran\", 45)\n",
    "\n",
    "  patient_4343.first_name = \"Naseer\"\n",
    "  patient_4343.get_fullname()\n",
    "  \n",
    "\n",
    "  print(\"done\")\n",
    "\n",
    "main()"
   ]
  },
  {
   "cell_type": "code",
   "execution_count": null,
   "id": "2f04dea0",
   "metadata": {},
   "outputs": [],
   "source": []
  }
 ],
 "metadata": {
  "kernelspec": {
   "display_name": "Python 3 (ipykernel)",
   "language": "python",
   "name": "python3"
  },
  "language_info": {
   "codemirror_mode": {
    "name": "ipython",
    "version": 3
   },
   "file_extension": ".py",
   "mimetype": "text/x-python",
   "name": "python",
   "nbconvert_exporter": "python",
   "pygments_lexer": "ipython3",
   "version": "3.9.12"
  }
 },
 "nbformat": 4,
 "nbformat_minor": 5
}
