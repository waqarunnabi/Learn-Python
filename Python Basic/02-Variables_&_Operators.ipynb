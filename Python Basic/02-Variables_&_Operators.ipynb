{
 "cells": [
  {
   "cell_type": "markdown",
   "id": "4b9bfafa",
   "metadata": {},
   "source": [
    "Two type of language \\\n",
    "Static type and Dynamic type \\\n",
    "Python is Dynamic"
   ]
  },
  {
   "cell_type": "code",
   "execution_count": 5,
   "id": "14b7ed7f",
   "metadata": {
    "scrolled": true
   },
   "outputs": [
    {
     "name": "stdout",
     "output_type": "stream",
     "text": [
      "<class 'float'>\n",
      "22.0\n"
     ]
    }
   ],
   "source": [
    "num1 = 22.0\n",
    "print(type(num1))\n",
    "print(num1)"
   ]
  },
  {
   "cell_type": "code",
   "execution_count": 4,
   "id": "0ec28bca",
   "metadata": {},
   "outputs": [
    {
     "name": "stdout",
     "output_type": "stream",
     "text": [
      "<class 'str'>\n",
      "Pakistan\n"
     ]
    }
   ],
   "source": [
    "num1 = \"Pakistan\"\n",
    "print(type(num1))\n",
    "print(num1)"
   ]
  },
  {
   "cell_type": "code",
   "execution_count": 6,
   "id": "54642a2c",
   "metadata": {},
   "outputs": [
    {
     "name": "stdout",
     "output_type": "stream",
     "text": [
      "78.0\n",
      "-34.0\n",
      "0.39285714285714285\n",
      "1232.0\n"
     ]
    }
   ],
   "source": [
    "print(num1 + 56)\n",
    "print(num1 - 56)\n",
    "print(num1 / 56)\n",
    "print(num1 * 56)"
   ]
  },
  {
   "cell_type": "code",
   "execution_count": 8,
   "id": "d1a24c64",
   "metadata": {},
   "outputs": [
    {
     "name": "stdout",
     "output_type": "stream",
     "text": [
      "Please Enter a number45\n",
      "45\n",
      "<class 'str'>\n"
     ]
    }
   ],
   "source": [
    "num = input(\"Please Enter a number\")\n",
    "print(num)\n",
    "print(type(num))"
   ]
  },
  {
   "cell_type": "code",
   "execution_count": 9,
   "id": "20ef26b4",
   "metadata": {},
   "outputs": [
    {
     "name": "stdout",
     "output_type": "stream",
     "text": [
      "45\n",
      "<class 'int'>\n"
     ]
    }
   ],
   "source": [
    "int_num = int(num)\n",
    "print(int_num)\n",
    "print(type(int_num))"
   ]
  },
  {
   "cell_type": "code",
   "execution_count": 11,
   "id": "3fb96793",
   "metadata": {},
   "outputs": [
    {
     "name": "stdout",
     "output_type": "stream",
     "text": [
      "Please Enter a number 12\n",
      "Please Enter a number 23\n",
      "5\n"
     ]
    }
   ],
   "source": [
    "num2 = input(\"Please Enter a number 1\")\n",
    "num3 = input(\"Please Enter a number 2\")\n",
    "num4 = int(num2) + int(num3)\n",
    "print(num4)"
   ]
  },
  {
   "cell_type": "code",
   "execution_count": 12,
   "id": "27697c4b",
   "metadata": {},
   "outputs": [
    {
     "name": "stdout",
     "output_type": "stream",
     "text": [
      "Please Enter a number 14\n",
      "Please Enter a number 25\n",
      "9\n"
     ]
    }
   ],
   "source": [
    "num2 = int(input(\"Please Enter a number 1\"))\n",
    "num3 = int(input(\"Please Enter a number 2\"))\n",
    "num4 = num2 + num3\n",
    "print(num4)"
   ]
  },
  {
   "cell_type": "markdown",
   "id": "f4aee648",
   "metadata": {},
   "source": [
    "Assignment \\\n",
    "2 input lene hai phir un sum add division milti krna hai"
   ]
  },
  {
   "cell_type": "markdown",
   "id": "f70b7f00",
   "metadata": {},
   "source": [
    "### PEP 8 is python guide line"
   ]
  },
  {
   "cell_type": "code",
   "execution_count": 13,
   "id": "2d34c8e5",
   "metadata": {},
   "outputs": [
    {
     "name": "stdout",
     "output_type": "stream",
     "text": [
      "10\n"
     ]
    }
   ],
   "source": [
    "age = 10\n",
    "print(age)"
   ]
  },
  {
   "cell_type": "code",
   "execution_count": 15,
   "id": "a0b02c90",
   "metadata": {},
   "outputs": [
    {
     "name": "stdout",
     "output_type": "stream",
     "text": [
      "30\n"
     ]
    }
   ],
   "source": [
    "age += 20 # age = age + 10\n",
    "print(age)"
   ]
  },
  {
   "cell_type": "markdown",
   "id": "f49b5df9",
   "metadata": {},
   "source": [
    "-= \\\n",
    "/= \\\n",
    "*= "
   ]
  },
  {
   "cell_type": "code",
   "execution_count": 18,
   "id": "0daa43e2",
   "metadata": {},
   "outputs": [
    {
     "name": "stdout",
     "output_type": "stream",
     "text": [
      "Hello Pakistan\n"
     ]
    }
   ],
   "source": [
    "greeting = \"Hello\"\n",
    "country = \"Pakistan\"\n",
    "greet_country = greeting + \" \" + country\n",
    "print(greet_country)"
   ]
  },
  {
   "cell_type": "markdown",
   "id": "acce113e",
   "metadata": {},
   "source": []
  },
  {
   "cell_type": "code",
   "execution_count": null,
   "id": "c3baaf4b",
   "metadata": {},
   "outputs": [],
   "source": []
  },
  {
   "cell_type": "markdown",
   "id": "f6d64233",
   "metadata": {},
   "source": [
    "# 10. Comparison operators"
   ]
  },
  {
   "cell_type": "code",
   "execution_count": 3,
   "id": "160aaff1",
   "metadata": {},
   "outputs": [
    {
     "name": "stdout",
     "output_type": "stream",
     "text": [
      "True\n",
      "True\n",
      "True\n"
     ]
    }
   ],
   "source": [
    "print(1 >= -1)\n",
    "print(2 <=3)\n",
    "print(5 <= (6-1))\n",
    "# >\n",
    "# <\n",
    "# >=\n",
    "# <=\n",
    "# !=\n",
    "# =="
   ]
  },
  {
   "cell_type": "code",
   "execution_count": 4,
   "id": "53b80383",
   "metadata": {},
   "outputs": [
    {
     "name": "stdout",
     "output_type": "stream",
     "text": [
      "False\n"
     ]
    }
   ],
   "source": [
    "print (2 != (1 * 2))"
   ]
  },
  {
   "cell_type": "code",
   "execution_count": null,
   "id": "94a699d1",
   "metadata": {},
   "outputs": [],
   "source": []
  },
  {
   "cell_type": "code",
   "execution_count": null,
   "id": "809f7dda",
   "metadata": {},
   "outputs": [],
   "source": []
  },
  {
   "cell_type": "code",
   "execution_count": null,
   "id": "7bbde0e1",
   "metadata": {},
   "outputs": [],
   "source": []
  },
  {
   "cell_type": "code",
   "execution_count": null,
   "id": "eec95df7",
   "metadata": {},
   "outputs": [],
   "source": []
  },
  {
   "cell_type": "code",
   "execution_count": null,
   "id": "d3ebefec",
   "metadata": {},
   "outputs": [],
   "source": []
  }
 ],
 "metadata": {
  "kernelspec": {
   "display_name": "Python 3 (ipykernel)",
   "language": "python",
   "name": "python3"
  },
  "language_info": {
   "codemirror_mode": {
    "name": "ipython",
    "version": 3
   },
   "file_extension": ".py",
   "mimetype": "text/x-python",
   "name": "python",
   "nbconvert_exporter": "python",
   "pygments_lexer": "ipython3",
   "version": "3.9.12"
  },
  "vscode": {
   "interpreter": {
    "hash": "5addf786bcd861d1ce5006f23111f8cbb206731e5b61b0a5632ba9e0252558a8"
   }
  }
 },
 "nbformat": 4,
 "nbformat_minor": 5
}
