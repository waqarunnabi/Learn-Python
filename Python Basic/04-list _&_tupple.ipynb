{
 "cells": [
  {
   "cell_type": "markdown",
   "id": "f31d7008",
   "metadata": {},
   "source": [
    "# 15. Lists"
   ]
  },
  {
   "cell_type": "code",
   "execution_count": 1,
   "id": "2d841020",
   "metadata": {},
   "outputs": [
    {
     "name": "stdout",
     "output_type": "stream",
     "text": [
      "<class 'list'>\n",
      "45\n"
     ]
    }
   ],
   "source": [
    "khi_temp = [10, 20, 21, 30, 30, 32, 28, 29, \"Pakistan\"]\n",
    "\n",
    "print(type(khi_temp))\n",
    "\n",
    "# var = 10\n",
    "#print(var)\n",
    "\n",
    "khi_temp[6] = 45\n",
    "\n",
    "print(khi_temp[6])"
   ]
  },
  {
   "cell_type": "code",
   "execution_count": 2,
   "id": "97580b7d",
   "metadata": {},
   "outputs": [
    {
     "ename": "IndexError",
     "evalue": "list index out of range",
     "output_type": "error",
     "traceback": [
      "\u001b[1;31m---------------------------------------------------------------------------\u001b[0m",
      "\u001b[1;31mIndexError\u001b[0m                                Traceback (most recent call last)",
      "Input \u001b[1;32mIn [2]\u001b[0m, in \u001b[0;36m<cell line: 1>\u001b[1;34m()\u001b[0m\n\u001b[1;32m----> 1\u001b[0m \u001b[38;5;28mprint\u001b[39m(\u001b[43mkhi_temp\u001b[49m\u001b[43m[\u001b[49m\u001b[38;5;241;43m21\u001b[39;49m\u001b[43m]\u001b[49m)\n",
      "\u001b[1;31mIndexError\u001b[0m: list index out of range"
     ]
    }
   ],
   "source": [
    "print(khi_temp[21])\n",
    "\n",
    "# Error out of range"
   ]
  },
  {
   "cell_type": "markdown",
   "id": "98cc6929",
   "metadata": {},
   "source": [
    "# 16. Lists: Adding and changing elements"
   ]
  },
  {
   "cell_type": "markdown",
   "id": "017e7018",
   "metadata": {},
   "source": [
    "Append function for add data"
   ]
  },
  {
   "cell_type": "code",
   "execution_count": 4,
   "id": "1d492e14",
   "metadata": {},
   "outputs": [],
   "source": [
    "khi_temp.append(\"Zindabad\")"
   ]
  },
  {
   "cell_type": "code",
   "execution_count": 5,
   "id": "48c09819",
   "metadata": {},
   "outputs": [
    {
     "data": {
      "text/plain": [
       "[10, 20, 21, 30, 30, 32, 45, 29, 'Pakistan', 'Zindabad']"
      ]
     },
     "execution_count": 5,
     "metadata": {},
     "output_type": "execute_result"
    }
   ],
   "source": [
    "khi_temp"
   ]
  },
  {
   "cell_type": "code",
   "execution_count": 6,
   "id": "4da875e5",
   "metadata": {},
   "outputs": [],
   "source": [
    "khi_temp.append(66)"
   ]
  },
  {
   "cell_type": "code",
   "execution_count": null,
   "id": "81aea89b",
   "metadata": {},
   "outputs": [],
   "source": []
  },
  {
   "cell_type": "markdown",
   "id": "17d3c432",
   "metadata": {},
   "source": [
    "# 17. Lists: Taking slices out of them"
   ]
  },
  {
   "cell_type": "code",
   "execution_count": 7,
   "id": "e0ca768c",
   "metadata": {},
   "outputs": [],
   "source": [
    "khi_temp.insert(4,31)"
   ]
  },
  {
   "cell_type": "code",
   "execution_count": 8,
   "id": "095459b7",
   "metadata": {},
   "outputs": [
    {
     "name": "stdout",
     "output_type": "stream",
     "text": [
      "[21, 30, 31]\n"
     ]
    }
   ],
   "source": [
    "print(khi_temp[2:5])"
   ]
  },
  {
   "cell_type": "code",
   "execution_count": 9,
   "id": "413aab0a",
   "metadata": {},
   "outputs": [],
   "source": [
    "# starting position inclusive\n",
    "# ending position exclusive"
   ]
  },
  {
   "cell_type": "markdown",
   "id": "aa8fb068",
   "metadata": {},
   "source": [
    "# 18. Lists: Deleting and removing elements"
   ]
  },
  {
   "cell_type": "code",
   "execution_count": 10,
   "id": "3dc59c73",
   "metadata": {},
   "outputs": [
    {
     "name": "stdout",
     "output_type": "stream",
     "text": [
      "[20, 21, 30, 31, 30, 32, 45, 29, 'Pakistan', 'Zindabad', 66]\n"
     ]
    }
   ],
   "source": [
    "del khi_temp[0]\n",
    "print(khi_temp)"
   ]
  },
  {
   "cell_type": "markdown",
   "id": "62a5fae7",
   "metadata": {},
   "source": [
    "You can also strike an element off a list by specifying its value instead of its\n",
    "index number:\n"
   ]
  },
  {
   "cell_type": "code",
   "execution_count": 11,
   "id": "a7d44f62",
   "metadata": {},
   "outputs": [
    {
     "name": "stdout",
     "output_type": "stream",
     "text": [
      "[20, 21, 30, 31, 30, 32, 45, 29, 'Pakistan', 66]\n"
     ]
    }
   ],
   "source": [
    "khi_temp.remove('Zindabad')\n",
    "print(khi_temp)"
   ]
  },
  {
   "cell_type": "code",
   "execution_count": 12,
   "id": "5ef3740f",
   "metadata": {},
   "outputs": [],
   "source": [
    "khi_temp.remove(30)"
   ]
  },
  {
   "cell_type": "code",
   "execution_count": 13,
   "id": "8945c262",
   "metadata": {},
   "outputs": [
    {
     "name": "stdout",
     "output_type": "stream",
     "text": [
      "[20, 21, 31, 30, 32, 45, 29, 'Pakistan', 66]\n"
     ]
    }
   ],
   "source": [
    "print(khi_temp)"
   ]
  },
  {
   "cell_type": "code",
   "execution_count": 14,
   "id": "dc039acb",
   "metadata": {},
   "outputs": [
    {
     "name": "stdout",
     "output_type": "stream",
     "text": [
      "[20, 21, 31, 32, 45, 29, 'Pakistan', 66]\n"
     ]
    }
   ],
   "source": [
    "khi_temp.remove(30)\n",
    "print(khi_temp)"
   ]
  },
  {
   "cell_type": "code",
   "execution_count": null,
   "id": "49c89241",
   "metadata": {},
   "outputs": [],
   "source": []
  },
  {
   "cell_type": "markdown",
   "id": "4b426fcf",
   "metadata": {},
   "source": [
    "# 19. Lists: popping elements"
   ]
  },
  {
   "cell_type": "markdown",
   "id": "624fc018",
   "metadata": {},
   "source": [
    "When you delete or remove a list element as I showed you in the last chapter,\n",
    "that element disappears into oblivion. It's just gone. But sometimes, you want to\n",
    "strike an element off a list but hang onto it for another purpose"
   ]
  },
  {
   "cell_type": "code",
   "execution_count": 15,
   "id": "622c99bb",
   "metadata": {},
   "outputs": [
    {
     "data": {
      "text/plain": [
       "20"
      ]
     },
     "execution_count": 15,
     "metadata": {},
     "output_type": "execute_result"
    }
   ],
   "source": [
    "khi_temp.pop(0)"
   ]
  },
  {
   "cell_type": "code",
   "execution_count": 16,
   "id": "241557e8",
   "metadata": {},
   "outputs": [
    {
     "name": "stdout",
     "output_type": "stream",
     "text": [
      "[21, 31, 32, 45, 29, 'Pakistan', 66]\n"
     ]
    }
   ],
   "source": [
    "print(khi_temp)"
   ]
  },
  {
   "cell_type": "code",
   "execution_count": 17,
   "id": "4b42392f",
   "metadata": {},
   "outputs": [
    {
     "name": "stdout",
     "output_type": "stream",
     "text": [
      "[1, 2, 3, 4, 5]\n",
      "[1, 2, 3, 4, 5]\n",
      "[10, 2, 3, 4, 5]\n",
      "[10, 2, 3, 4, 5]\n",
      "[10, 2, 3, 4, 5]\n",
      "[10, 2, 3, 4, 5]\n",
      "[9, 2, 3, 4, 5]\n"
     ]
    }
   ],
   "source": [
    "arr = [1,2,3,4,5]\n",
    "print(arr)\n",
    "\n",
    "arr2 = arr\n",
    "print(arr2)\n",
    "arr2[0] = 10\n",
    "print(arr)\n",
    "print(arr2)\n",
    "\n",
    "# copy list with and this list cant change other list\n",
    "arr3 = [*arr2]\n",
    "print(arr3)\n",
    "arr3[0] = 9\n",
    "print(arr2)\n",
    "print(arr3)"
   ]
  },
  {
   "cell_type": "code",
   "execution_count": null,
   "id": "e2bd7c72",
   "metadata": {},
   "outputs": [],
   "source": []
  },
  {
   "cell_type": "code",
   "execution_count": null,
   "id": "1217631e",
   "metadata": {},
   "outputs": [],
   "source": []
  },
  {
   "cell_type": "code",
   "execution_count": null,
   "id": "c22cc5ab",
   "metadata": {},
   "outputs": [],
   "source": []
  },
  {
   "cell_type": "markdown",
   "id": "df68f1a2",
   "metadata": {},
   "source": [
    "# 20. Tuples"
   ]
  },
  {
   "cell_type": "code",
   "execution_count": 18,
   "id": "391a9f4c",
   "metadata": {},
   "outputs": [
    {
     "data": {
      "text/plain": [
       "tuple"
      ]
     },
     "execution_count": 18,
     "metadata": {},
     "output_type": "execute_result"
    }
   ],
   "source": [
    "pk_temp = (10, 20, 30)\n",
    "\n",
    "type(pk_temp)"
   ]
  },
  {
   "cell_type": "code",
   "execution_count": 19,
   "id": "6923f911",
   "metadata": {},
   "outputs": [
    {
     "data": {
      "text/plain": [
       "30"
      ]
     },
     "execution_count": 19,
     "metadata": {},
     "output_type": "execute_result"
    }
   ],
   "source": [
    "pk_temp[2]"
   ]
  },
  {
   "cell_type": "markdown",
   "id": "9c1f8aec",
   "metadata": {},
   "source": [
    "## tuples values are constant"
   ]
  },
  {
   "cell_type": "code",
   "execution_count": 20,
   "id": "88beb9b5",
   "metadata": {},
   "outputs": [
    {
     "ename": "TypeError",
     "evalue": "'tuple' object does not support item assignment",
     "output_type": "error",
     "traceback": [
      "\u001b[1;31m---------------------------------------------------------------------------\u001b[0m",
      "\u001b[1;31mTypeError\u001b[0m                                 Traceback (most recent call last)",
      "Input \u001b[1;32mIn [20]\u001b[0m, in \u001b[0;36m<cell line: 1>\u001b[1;34m()\u001b[0m\n\u001b[1;32m----> 1\u001b[0m pk_temp[\u001b[38;5;241m0\u001b[39m] \u001b[38;5;241m=\u001b[39m \u001b[38;5;241m11\u001b[39m\n",
      "\u001b[1;31mTypeError\u001b[0m: 'tuple' object does not support item assignment"
     ]
    }
   ],
   "source": [
    "pk_temp[0] = 11\n",
    "\n",
    "# value can't change"
   ]
  },
  {
   "cell_type": "code",
   "execution_count": 21,
   "id": "16ee5a51",
   "metadata": {},
   "outputs": [
    {
     "data": {
      "text/plain": [
       "3"
      ]
     },
     "execution_count": 21,
     "metadata": {},
     "output_type": "execute_result"
    }
   ],
   "source": [
    "len(pk_temp)"
   ]
  },
  {
   "cell_type": "code",
   "execution_count": null,
   "id": "e4d69da1",
   "metadata": {},
   "outputs": [],
   "source": []
  }
 ],
 "metadata": {
  "kernelspec": {
   "display_name": "Python 3 (ipykernel)",
   "language": "python",
   "name": "python3"
  },
  "language_info": {
   "codemirror_mode": {
    "name": "ipython",
    "version": 3
   },
   "file_extension": ".py",
   "mimetype": "text/x-python",
   "name": "python",
   "nbconvert_exporter": "python",
   "pygments_lexer": "ipython3",
   "version": "3.9.12"
  }
 },
 "nbformat": 4,
 "nbformat_minor": 5
}
