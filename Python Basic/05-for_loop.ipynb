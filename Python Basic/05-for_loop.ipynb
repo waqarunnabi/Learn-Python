{
 "cells": [
  {
   "cell_type": "markdown",
   "id": "efceb2a2",
   "metadata": {},
   "source": [
    "# 21. for loops"
   ]
  },
  {
   "cell_type": "code",
   "execution_count": 1,
   "id": "417ec47f",
   "metadata": {},
   "outputs": [],
   "source": [
    "pk_temp = (10, 20, 30)"
   ]
  },
  {
   "cell_type": "code",
   "execution_count": 2,
   "id": "4320f2c6",
   "metadata": {},
   "outputs": [
    {
     "name": "stdout",
     "output_type": "stream",
     "text": [
      "10\n",
      "20\n",
      "30\n"
     ]
    }
   ],
   "source": [
    "for i in pk_temp:\n",
    "    print(i)"
   ]
  },
  {
   "cell_type": "code",
   "execution_count": 4,
   "id": "c5c245a4",
   "metadata": {},
   "outputs": [
    {
     "name": "stdout",
     "output_type": "stream",
     "text": [
      "-10\n"
     ]
    }
   ],
   "source": [
    "numbers = [10, 20, 300, -1, 2, 200, -10]\n",
    "min_val = numbers[0]\n",
    "for val in numbers:\n",
    "    if val < min_val:\n",
    "        min_val = val\n",
    "        \n",
    "print(min_val)"
   ]
  },
  {
   "cell_type": "code",
   "execution_count": 5,
   "id": "ffeecb58",
   "metadata": {},
   "outputs": [
    {
     "name": "stdout",
     "output_type": "stream",
     "text": [
      "10\n"
     ]
    }
   ],
   "source": [
    "numbers = [10, 20, 300, -1, 2, 200, -10]\n",
    "min_val = numbers[0]\n",
    "for val in numbers[0:2]:\n",
    "    if val < min_val:\n",
    "        min_val = val\n",
    "        \n",
    "print(min_val)"
   ]
  },
  {
   "cell_type": "code",
   "execution_count": 6,
   "id": "d3874451",
   "metadata": {},
   "outputs": [],
   "source": [
    "# maximum\n",
    "# Average\n",
    "# konsi value kitni bar ae hai\n",
    "# binary to decimale"
   ]
  },
  {
   "cell_type": "markdown",
   "id": "972ea802",
   "metadata": {},
   "source": [
    "## Class 5"
   ]
  },
  {
   "cell_type": "markdown",
   "id": "39cedfcc",
   "metadata": {},
   "source": [
    "Tasks"
   ]
  },
  {
   "cell_type": "code",
   "execution_count": 56,
   "id": "0b0029cb",
   "metadata": {},
   "outputs": [
    {
     "data": {
      "text/plain": [
       "['A', 'A', 'A', 'B', 'C', 'A', 'D', 'D', 'E']"
      ]
     },
     "execution_count": 56,
     "metadata": {},
     "output_type": "execute_result"
    }
   ],
   "source": [
    "var = ['A', 'A', 'A', 'B', 'C', 'A', 'D', 'D' ,'E']\n",
    "var\n"
   ]
  },
  {
   "cell_type": "code",
   "execution_count": 19,
   "id": "f9cd0525",
   "metadata": {},
   "outputs": [],
   "source": [
    "var1 = var[:3] # var[0:3]\n",
    "var2 = var[3:6]\n",
    "var3 = var[6:] # var[6:9]"
   ]
  },
  {
   "cell_type": "code",
   "execution_count": 23,
   "id": "36ae5ecb",
   "metadata": {},
   "outputs": [
    {
     "data": {
      "text/plain": [
       "['A', 'A', 'A']"
      ]
     },
     "execution_count": 23,
     "metadata": {},
     "output_type": "execute_result"
    }
   ],
   "source": [
    "var1"
   ]
  },
  {
   "cell_type": "code",
   "execution_count": 24,
   "id": "06643d63",
   "metadata": {},
   "outputs": [
    {
     "data": {
      "text/plain": [
       "['B', 'C', 'A']"
      ]
     },
     "execution_count": 24,
     "metadata": {},
     "output_type": "execute_result"
    }
   ],
   "source": [
    "var2"
   ]
  },
  {
   "cell_type": "code",
   "execution_count": 25,
   "id": "43536b5c",
   "metadata": {},
   "outputs": [
    {
     "data": {
      "text/plain": [
       "['D', 'D', 'E']"
      ]
     },
     "execution_count": 25,
     "metadata": {},
     "output_type": "execute_result"
    }
   ],
   "source": [
    "var3"
   ]
  },
  {
   "cell_type": "code",
   "execution_count": 32,
   "id": "f73df35a",
   "metadata": {},
   "outputs": [],
   "source": [
    "var4 = var[:5]\n",
    "var5 = var[5:]"
   ]
  },
  {
   "cell_type": "code",
   "execution_count": 30,
   "id": "26485ea7",
   "metadata": {},
   "outputs": [
    {
     "data": {
      "text/plain": [
       "['A', 'A', 'A', 'B', 'C']"
      ]
     },
     "execution_count": 30,
     "metadata": {},
     "output_type": "execute_result"
    }
   ],
   "source": [
    "var4"
   ]
  },
  {
   "cell_type": "code",
   "execution_count": 33,
   "id": "7911468c",
   "metadata": {},
   "outputs": [
    {
     "data": {
      "text/plain": [
       "['A', 'D', 'D', 'E']"
      ]
     },
     "execution_count": 33,
     "metadata": {},
     "output_type": "execute_result"
    }
   ],
   "source": [
    "var5"
   ]
  },
  {
   "cell_type": "code",
   "execution_count": 37,
   "id": "80328135",
   "metadata": {},
   "outputs": [
    {
     "data": {
      "text/plain": [
       "['A', 'A', 'A', 'B', 'C']"
      ]
     },
     "execution_count": 37,
     "metadata": {},
     "output_type": "execute_result"
    }
   ],
   "source": [
    "v = 5\n",
    "var[:v]"
   ]
  },
  {
   "cell_type": "code",
   "execution_count": 51,
   "id": "6010c2d3",
   "metadata": {},
   "outputs": [
    {
     "name": "stdout",
     "output_type": "stream",
     "text": [
      "[1, 2, 3]\n",
      "(1, 2, 3)\n"
     ]
    }
   ],
   "source": [
    "x = [1,2,3]\n",
    "y = tuple(x)\n",
    "print(x)\n",
    "print(y)"
   ]
  },
  {
   "cell_type": "code",
   "execution_count": 52,
   "id": "cd074ab9",
   "metadata": {},
   "outputs": [
    {
     "data": {
      "text/plain": [
       "list"
      ]
     },
     "execution_count": 52,
     "metadata": {},
     "output_type": "execute_result"
    }
   ],
   "source": [
    "type(x)"
   ]
  },
  {
   "cell_type": "code",
   "execution_count": 53,
   "id": "cdb5b35a",
   "metadata": {},
   "outputs": [
    {
     "name": "stdout",
     "output_type": "stream",
     "text": [
      "(1, 2, 3)\n",
      "[1, 2, 3]\n"
     ]
    }
   ],
   "source": [
    "x = (1,2,3)\n",
    "y = list(x)\n",
    "print(x)\n",
    "print(y)"
   ]
  },
  {
   "cell_type": "code",
   "execution_count": 54,
   "id": "fdd233bd",
   "metadata": {},
   "outputs": [
    {
     "data": {
      "text/plain": [
       "tuple"
      ]
     },
     "execution_count": 54,
     "metadata": {},
     "output_type": "execute_result"
    }
   ],
   "source": [
    "type(x)"
   ]
  },
  {
   "cell_type": "code",
   "execution_count": 60,
   "id": "35012075",
   "metadata": {},
   "outputs": [
    {
     "data": {
      "text/plain": [
       "['A', 'A', 'A', 'B', 'C', 'A', 'D', 'D', 'E']"
      ]
     },
     "execution_count": 60,
     "metadata": {},
     "output_type": "execute_result"
    }
   ],
   "source": [
    "var = ['A', 'A', 'A', 'B', 'C', 'A', 'D', 'D' ,'E']\n",
    "var"
   ]
  },
  {
   "cell_type": "code",
   "execution_count": 133,
   "id": "e6dde3d5",
   "metadata": {},
   "outputs": [
    {
     "data": {
      "text/plain": [
       "['A', 'A', 'A', 'B', 'C', 'A', 'D', 'D', 'E']"
      ]
     },
     "execution_count": 133,
     "metadata": {},
     "output_type": "execute_result"
    }
   ],
   "source": [
    "val1 = []\n",
    "for v in var:\n",
    "    # print(v)\n",
    "    val1.append(v)\n",
    "val1"
   ]
  },
  {
   "cell_type": "code",
   "execution_count": 134,
   "id": "5faacf06",
   "metadata": {},
   "outputs": [
    {
     "data": {
      "text/plain": [
       "['A', 'A', 'A', 'B', 'C', 'A', 'D', 'D', 'E']"
      ]
     },
     "execution_count": 134,
     "metadata": {},
     "output_type": "execute_result"
    }
   ],
   "source": [
    "val1"
   ]
  },
  {
   "cell_type": "markdown",
   "id": "ae80ebc1",
   "metadata": {},
   "source": [
    "# 21. for loops\n"
   ]
  },
  {
   "cell_type": "code",
   "execution_count": 84,
   "id": "04a330cc",
   "metadata": {},
   "outputs": [],
   "source": [
    "city_to_check = \"Tucson\"\n",
    "\n",
    "cleanest_cities = [\"Cheyenne\", \"Santa Fe\", \"Tucson\",\n",
    "\"Great Falls\", \"Honolulu\"]\n"
   ]
  },
  {
   "cell_type": "code",
   "execution_count": 85,
   "id": "ca9802d4",
   "metadata": {},
   "outputs": [
    {
     "name": "stdout",
     "output_type": "stream",
     "text": [
      "It's one of the cleanest cities\n"
     ]
    }
   ],
   "source": [
    "for clean_city in cleanest_cities:\n",
    "    if city_to_check == clean_city:\n",
    "        print(\"It's one of the cleanest cities\")\n"
   ]
  },
  {
   "cell_type": "markdown",
   "id": "f76b3064",
   "metadata": {},
   "source": [
    "In the course of comparing the city in question against the list of clean cities,\n",
    "if Python finds a match, there's no point in continuing the loop. So you stop the\n",
    "loop by adding a break statement:"
   ]
  },
  {
   "cell_type": "code",
   "execution_count": 86,
   "id": "4aadcd85",
   "metadata": {},
   "outputs": [
    {
     "name": "stdout",
     "output_type": "stream",
     "text": [
      "It's one of the cleanest cities\n"
     ]
    }
   ],
   "source": [
    "for clean_city in cleanest_cities:\n",
    "    if city_to_check == clean_city:\n",
    "        print(\"It's one of the cleanest cities\")\n",
    "        break"
   ]
  },
  {
   "cell_type": "markdown",
   "id": "f3ceaf04",
   "metadata": {},
   "source": [
    "Assinment \\\n",
    "make a list of 10 cities from pakistan \\\n",
    "and identify which city contain 'K' in its name"
   ]
  },
  {
   "cell_type": "code",
   "execution_count": 120,
   "id": "89dc9acc",
   "metadata": {},
   "outputs": [
    {
     "name": "stdout",
     "output_type": "stream",
     "text": [
      "contain k alphabet in cit karachi\n",
      "Not Found k alphabet in city islamabad\n",
      "Not Found k alphabet in city rawalpindi\n",
      "Not Found k alphabet in city lahore\n",
      "Not Found k alphabet in city faislabad\n",
      "Not Found k alphabet in city multan\n",
      "contain k alphabet in cit larkana\n",
      "Not Found k alphabet in city quetta\n",
      "Not Found k alphabet in city peshawar\n",
      "Not Found k alphabet in city bawalput\n"
     ]
    }
   ],
   "source": [
    "pakistan_cities = [\"karachi\", \"islamabad\", \"rawalpindi\", \"lahore\", \"faislabad\", \n",
    "                   \"multan\", \"larkana\", \"quetta\", \"peshawar\",\"bawalput\"]\n",
    "for cities in pakistan_cities:\n",
    "    if 'k' in cities:\n",
    "        print(\"contain k alphabet in cit \" + cities)      \n",
    "    else:\n",
    "        print(\"Not Found k alphabet in city \" + cities)"
   ]
  },
  {
   "cell_type": "code",
   "execution_count": 118,
   "id": "ed118238",
   "metadata": {},
   "outputs": [
    {
     "name": "stdout",
     "output_type": "stream",
     "text": [
      "contain i alphabet in this city karachi\n",
      "contain i alphabet in this city islamabad\n",
      "contain i alphabet in this city rawalpindi\n",
      "contain i alphabet in this city faislabad\n"
     ]
    }
   ],
   "source": [
    " pakistan_cities = [\"karachi\", \"islamabad\", \"rawalpindi\", \"lahore\", \"faislabad\", \n",
    "                   \"multan\", \"larkana\", \"quetta\", \"peshawar\",\"bawalput\"]\n",
    "not_found_cities = []\n",
    "for cities in pakistan_cities:\n",
    "    if 'i' in cities:\n",
    "        print(\"contain i alphabet in this city \" + cities)      \n",
    "    else:\n",
    "        not_found_cities.append(cities)"
   ]
  },
  {
   "cell_type": "code",
   "execution_count": 117,
   "id": "00f70233",
   "metadata": {},
   "outputs": [
    {
     "data": {
      "text/plain": [
       "['lahore', 'multan', 'larkana', 'quetta', 'peshawar', 'bawalput']"
      ]
     },
     "execution_count": 117,
     "metadata": {},
     "output_type": "execute_result"
    }
   ],
   "source": [
    "not_found_cities"
   ]
  },
  {
   "cell_type": "code",
   "execution_count": 15,
   "id": "02078d29",
   "metadata": {},
   "outputs": [
    {
     "name": "stdout",
     "output_type": "stream",
     "text": [
      "Which Charactor Name you want to check? Please Enter q\n",
      "Names with contain q Charactor waqar\n",
      "Names with contain q Charactor waqas\n",
      "Names with contain q Charactor qasim\n",
      "Not found name with q Charactor \n"
     ]
    }
   ],
   "source": [
    "people_names = [\"waqar\", \"waqas\", 'ali', 'hassan', 'hussain', 'qasim', 'mehar', 'nizam', 'umer', 'usman']\n",
    "alpha = input(\"Which Charactor Name you want to check? Please Enter \")\n",
    "for names in people_names:\n",
    "    if alpha in names:\n",
    "        print(\"Names with contain \" + alpha + \" Charactor \" + names)\n",
    "else:\n",
    "    print(\"Not found name with \" + alpha + \" Charactor \")"
   ]
  },
  {
   "cell_type": "code",
   "execution_count": 26,
   "id": "56df6749",
   "metadata": {},
   "outputs": [
    {
     "name": "stdout",
     "output_type": "stream",
     "text": [
      "Which Charactor Name you want to check? Please Enter q\n",
      "\n",
      "Names with contain q Charactor waqar\n",
      "\n",
      "Names with contain q Charactor waqas\n",
      "\n",
      "Names with contain q Charactor qasim\n",
      "\n",
      "\n",
      "Not found name with q Charactor ali\n",
      "Not found name with q Charactor hassan\n",
      "Not found name with q Charactor hussain\n",
      "Not found name with q Charactor mehar\n",
      "Not found name with q Charactor nizam\n",
      "Not found name with q Charactor umer\n",
      "Not found name with q Charactor usman\n"
     ]
    }
   ],
   "source": [
    "people_names = [\"waqar\", \"waqas\", 'ali', 'hassan', 'hussain', 'qasim', 'mehar', 'nizam', 'umer', 'usman']\n",
    "alpha = input(\"Which Charactor Name you want to check? Please Enter \")\n",
    "for names in people_names:\n",
    "    if alpha in names:\n",
    "        print(\"\\nNames with contain \" + alpha + \" Charactor \" + names)\n",
    "print(\"\\n\")  \n",
    "for names in people_names:\n",
    "    if alpha not in names:\n",
    "        print(\"Not found name with \" + alpha + \" Charactor \" + names)"
   ]
  },
  {
   "cell_type": "code",
   "execution_count": 4,
   "id": "f7708eb8",
   "metadata": {},
   "outputs": [
    {
     "name": "stdout",
     "output_type": "stream",
     "text": [
      "['Hyderabad', 'Islamabad', 'Lahore', 'Quetta', 'Daddu', 'Thatta', ' Sawat']\n"
     ]
    }
   ],
   "source": [
    "cities = [\"karachi\", \"Hyderabad\", \"Islamabad\", \"Sukkhur\", \"Larkana\", \"Lahore\", \"Quetta\", \"Daddu\", \"Thatta\",\" Sawat\"]\n",
    "\n",
    "not_k_in_cities = []\n",
    "\n",
    "for i in cities:\n",
    "    if not \"k\" in i:\n",
    "        not_k_in_cities.append(i)\n",
    "        \n",
    "print(not_k_in_cities)\n"
   ]
  },
  {
   "cell_type": "markdown",
   "id": "e84c75d3",
   "metadata": {},
   "source": []
  },
  {
   "cell_type": "code",
   "execution_count": null,
   "id": "f2b2dc04",
   "metadata": {},
   "outputs": [],
   "source": []
  },
  {
   "cell_type": "code",
   "execution_count": 5,
   "id": "20b84067",
   "metadata": {},
   "outputs": [
    {
     "name": "stdout",
     "output_type": "stream",
     "text": [
      "[0.2198852772466539, 0.23255813953488372, 0.2966101694915254, 0.27079303675048355, 0.15502183406113537, 0.17288801571709234]\n",
      "0.2246260788002957\n"
     ]
    }
   ],
   "source": [
    "sizes = [523, 645, 708, 1034, 2290, 2545]\n",
    "prices = [115, 150, 210, 280, 355, 440]\n",
    "\n",
    "c = 0\n",
    "\n",
    "# Logic :  m = price/sizes - c # ignore c bcz its zero\n",
    "# Logic : price = size * m + c\n",
    "\n",
    "multipliers = []\n",
    "m =0\n",
    "loc=0\n",
    "for price in prices:\n",
    "    m= price/sizes[loc]\n",
    "    multipliers.append(m)\n",
    "    loc = loc+1\n",
    "    \n",
    "print(multipliers)\n",
    "multiplier = sum(multipliers)/len(multipliers)\n",
    "print(multiplier)"
   ]
  },
  {
   "cell_type": "code",
   "execution_count": 6,
   "id": "623c231f",
   "metadata": {},
   "outputs": [
    {
     "name": "stdout",
     "output_type": "stream",
     "text": [
      "0.2246260788002957\n",
      "predicted : 117.47943921255465 Actual :  115\n",
      "predicted : 144.8838208261907 Actual :  150\n",
      "predicted : 159.03526379060935 Actual :  210\n",
      "predicted : 232.26336547950575 Actual :  280\n",
      "predicted : 514.3937204526771 Actual :  355\n",
      "predicted : 571.6733705467525 Actual :  440\n"
     ]
    }
   ],
   "source": [
    "sizes = [523, 645, 708, 1034, 2290, 2545]\n",
    "prices = [115, 150, 210, 280, 355, 440]\n",
    "\n",
    "c = 0\n",
    "\n",
    "# Logic :  m = price/sizes - c # ignore c bcz its zero\n",
    "# Logic : price = size * m + c\n",
    "\n",
    "multipliers = []\n",
    "m =0\n",
    "# loc=0\n",
    "for loc in range(len(prices)):\n",
    "    m= prices[loc]/sizes[loc]\n",
    "    multipliers.append(m)\n",
    "    loc = loc+1\n",
    "    \n",
    "#print(multipliers)\n",
    "avg_multiplier = sum(multipliers)/len(multipliers)\n",
    "print(avg_multiplier)\n",
    "\n",
    "#testing\n",
    "for  loc in range (len(prices)):\n",
    "    price = avg_multiplier * sizes[loc] +c\n",
    "    print(\"predicted :\", price, \"Actual : \", prices[loc])\n"
   ]
  },
  {
   "cell_type": "markdown",
   "id": "31bd2c3b",
   "metadata": {},
   "source": []
  },
  {
   "cell_type": "code",
   "execution_count": null,
   "id": "99f169b5",
   "metadata": {},
   "outputs": [],
   "source": []
  },
  {
   "cell_type": "code",
   "execution_count": null,
   "id": "43aa485c",
   "metadata": {},
   "outputs": [],
   "source": []
  },
  {
   "cell_type": "code",
   "execution_count": null,
   "id": "4c1c6a71",
   "metadata": {},
   "outputs": [],
   "source": []
  },
  {
   "cell_type": "code",
   "execution_count": null,
   "id": "d23d4e5d",
   "metadata": {},
   "outputs": [],
   "source": []
  },
  {
   "cell_type": "code",
   "execution_count": null,
   "id": "908607bb",
   "metadata": {},
   "outputs": [],
   "source": []
  },
  {
   "cell_type": "code",
   "execution_count": null,
   "id": "a520fdc4",
   "metadata": {},
   "outputs": [],
   "source": []
  },
  {
   "cell_type": "code",
   "execution_count": null,
   "id": "a633a5a0",
   "metadata": {},
   "outputs": [],
   "source": []
  }
 ],
 "metadata": {
  "kernelspec": {
   "display_name": "Python 3 (ipykernel)",
   "language": "python",
   "name": "python3"
  },
  "language_info": {
   "codemirror_mode": {
    "name": "ipython",
    "version": 3
   },
   "file_extension": ".py",
   "mimetype": "text/x-python",
   "name": "python",
   "nbconvert_exporter": "python",
   "pygments_lexer": "ipython3",
   "version": "3.9.12"
  }
 },
 "nbformat": 4,
 "nbformat_minor": 5
}
