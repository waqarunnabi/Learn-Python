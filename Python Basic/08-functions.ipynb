{
 "cells": [
  {
   "cell_type": "markdown",
   "id": "f2dcc69b",
   "metadata": {},
   "source": [
    "# Functions"
   ]
  },
  {
   "cell_type": "code",
   "execution_count": 1,
   "id": "1999ce19",
   "metadata": {},
   "outputs": [],
   "source": [
    "a = \"\"\"A function is a block of Python code that robotically does the same thing again\n",
    "and again, whenever you invoke its name. It saves you repetitive coding and\n",
    "makes your code easier to understand.\n",
    "\"\"\""
   ]
  },
  {
   "cell_type": "code",
   "execution_count": 2,
   "id": "82859adf",
   "metadata": {},
   "outputs": [
    {
     "name": "stdout",
     "output_type": "stream",
     "text": [
      "34 ['A', 'function', 'is', 'a', 'block', 'of', 'Python', 'code', 'that', 'robotically', 'does', 'the', 'same', 'thing', 'again', 'and', 'again,', 'whenever', 'you', 'invoke', 'its', 'name.', 'It', 'saves', 'you', 'repetitive', 'coding', 'and', 'makes', 'your', 'code', 'easier', 'to', 'understand.']\n",
      "True\n"
     ]
    }
   ],
   "source": [
    "word_list = a.split()\n",
    "print(len(word_list), word_list)\n",
    "print('function' in word_list)"
   ]
  },
  {
   "cell_type": "code",
   "execution_count": 9,
   "id": "4126fd99",
   "metadata": {},
   "outputs": [
    {
     "name": "stdout",
     "output_type": "stream",
     "text": [
      "5\n"
     ]
    }
   ],
   "source": [
    "def add_num():\n",
    "    num1 = 2\n",
    "    num2 = 3\n",
    "    total = num1 + num2\n",
    "    print(total)\n",
    "    \n",
    "add_num()"
   ]
  },
  {
   "cell_type": "code",
   "execution_count": 8,
   "id": "db32ea87",
   "metadata": {},
   "outputs": [
    {
     "name": "stdout",
     "output_type": "stream",
     "text": [
      "5\n"
     ]
    }
   ],
   "source": [
    "add_num()"
   ]
  },
  {
   "cell_type": "markdown",
   "id": "4499aab2",
   "metadata": {},
   "source": [
    "positional arguments"
   ]
  },
  {
   "cell_type": "code",
   "execution_count": 10,
   "id": "f9b1d068",
   "metadata": {},
   "outputs": [
    {
     "name": "stdout",
     "output_type": "stream",
     "text": [
      "9\n"
     ]
    }
   ],
   "source": [
    "def add_num2(num1, num2):\n",
    "    total = num1 + num2\n",
    "    print(total)\n",
    "    \n",
    "add_num2(4,5)"
   ]
  },
  {
   "cell_type": "markdown",
   "id": "e139af56",
   "metadata": {},
   "source": [
    "Assigning a default value to\n",
    "a parameter"
   ]
  },
  {
   "cell_type": "code",
   "execution_count": 18,
   "id": "120500ba",
   "metadata": {},
   "outputs": [
    {
     "name": "stdout",
     "output_type": "stream",
     "text": [
      "10000\n"
     ]
    }
   ],
   "source": [
    "def calc_tax(sales, tax_rate=2):\n",
    "    print(sales * tax_rate)\n",
    "calc_tax(5000)"
   ]
  },
  {
   "cell_type": "code",
   "execution_count": 20,
   "id": "a1ee1a96",
   "metadata": {},
   "outputs": [
    {
     "name": "stdout",
     "output_type": "stream",
     "text": [
      "15000\n"
     ]
    }
   ],
   "source": [
    "calc_tax(5000,3)"
   ]
  },
  {
   "cell_type": "markdown",
   "id": "0cd615fb",
   "metadata": {},
   "source": [
    "Note: Only keyword parameters can have a default value. Positional\n",
    "parameters can't."
   ]
  },
  {
   "cell_type": "code",
   "execution_count": 40,
   "id": "431f722d",
   "metadata": {},
   "outputs": [
    {
     "name": "stdout",
     "output_type": "stream",
     "text": [
      "Ann\n",
      "{'first name': 'Ann', 'last name': 'Sattermyer', 'address': 'PO Box 1145'}\n"
     ]
    }
   ],
   "source": [
    "customers = {\n",
    "    0: {\n",
    "        \"first name\":\"John\",\n",
    "        \"last name\": \"Ogden\",\n",
    "        \"address\": \"301 Arbor Rd.\",\n",
    "    },\n",
    "    1: {\n",
    "        \"first name\":\"Ann\",\n",
    "        \"last name\": \"Sattermyer\",\n",
    "        \"address\": \"PO Box 1145\",\n",
    "    },\n",
    "    2: {\n",
    "        \"first name\":\"Jill\",\n",
    "        \"last name\": \"Somers\",\n",
    "        \"address\": \"3 Main St.\",\n",
    "    },\n",
    "}\n",
    "def find_something(dict, inner_dict, target):\n",
    "    data = dict[inner_dict]\n",
    "    print(data[target])\n",
    "    print(dict[inner_dict][target])\n",
    "    \n",
    "    \n",
    "find_something(customers, 1, \"first name\")\n"
   ]
  },
  {
   "cell_type": "code",
   "execution_count": 30,
   "id": "8c938de1",
   "metadata": {},
   "outputs": [
    {
     "name": "stdout",
     "output_type": "stream",
     "text": [
      "Sattermyer\n"
     ]
    }
   ],
   "source": [
    "def find_something(dict, inner_dict, target):\n",
    "    print(dict[inner_dict][target])\n",
    "\n",
    "find_something(customers, 1, \"last name\")"
   ]
  },
  {
   "cell_type": "markdown",
   "id": "1e07b10d",
   "metadata": {},
   "source": [
    "one * for list\n",
    "two * for dict"
   ]
  },
  {
   "cell_type": "code",
   "execution_count": 2,
   "id": "4baadee7",
   "metadata": {},
   "outputs": [
    {
     "name": "stdout",
     "output_type": "stream",
     "text": [
      "100\n",
      "200\n",
      "(300, 400, 500)\n"
     ]
    }
   ],
   "source": [
    "def display_nums(first_num, second_num,\n",
    "*opt_nums):\n",
    "    print(first_num)\n",
    "    print(second_num)\n",
    "    print(opt_nums)\n",
    "    \n",
    "display_nums(100, 200, 300, 400, 500)\n",
    "\n"
   ]
  },
  {
   "cell_type": "code",
   "execution_count": 49,
   "id": "15acb380",
   "metadata": {},
   "outputs": [
    {
     "name": "stdout",
     "output_type": "stream",
     "text": [
      "10000\n",
      "2000\n",
      "{'other_benifits': 4000, 'bonus': 1000}\n",
      "10000\n",
      "2000\n",
      "{'other_benifits': 4000}\n",
      "10000\n",
      "2000\n",
      "{}\n"
     ]
    }
   ],
   "source": [
    "def display_nums2(basic_salary, house_rent,\n",
    "**other_benifits):\n",
    "    print(basic_salary)\n",
    "    print(house_rent)\n",
    "    print(other_benifits)\n",
    "    \n",
    "display_nums2(10000, 2000, other_benifits=4000, bonus=1000)\n",
    "display_nums2(10000, 2000, other_benifits=4000)\n",
    "display_nums2(10000, 2000)"
   ]
  },
  {
   "cell_type": "code",
   "execution_count": 50,
   "id": "2001c7d2",
   "metadata": {},
   "outputs": [
    {
     "data": {
      "text/plain": [
       "10000"
      ]
     },
     "execution_count": 50,
     "metadata": {},
     "output_type": "execute_result"
    }
   ],
   "source": [
    "def calc_tax(sales, tax_rate=2):\n",
    "    tax = sales * tax_rate\n",
    "    return tax\n",
    "calc_tax(5000)"
   ]
  },
  {
   "cell_type": "markdown",
   "id": "cad91289",
   "metadata": {},
   "source": [
    "page no 142 139 136 132 129 144"
   ]
  },
  {
   "cell_type": "markdown",
   "id": "f94f9519",
   "metadata": {},
   "source": [
    "Functions: Local vs. global variables"
   ]
  },
  {
   "cell_type": "code",
   "execution_count": 51,
   "id": "46219a4d",
   "metadata": {},
   "outputs": [],
   "source": [
    "what_to_say = \"Hi\" # Global Variable"
   ]
  },
  {
   "cell_type": "code",
   "execution_count": 56,
   "id": "5d2b9962",
   "metadata": {},
   "outputs": [],
   "source": [
    "def say_something():\n",
    "    what_to_say = \"Hi\" # Local variable\n"
   ]
  },
  {
   "cell_type": "code",
   "execution_count": 61,
   "id": "59247aba",
   "metadata": {},
   "outputs": [],
   "source": [
    "def whatever(b, c):\n",
    "    total = b + c\n",
    "    return total"
   ]
  },
  {
   "cell_type": "code",
   "execution_count": 65,
   "id": "26bf41c9",
   "metadata": {},
   "outputs": [
    {
     "ename": "NameError",
     "evalue": "name 'total' is not defined",
     "output_type": "error",
     "traceback": [
      "\u001b[1;31m---------------------------------------------------------------------------\u001b[0m",
      "\u001b[1;31mNameError\u001b[0m                                 Traceback (most recent call last)",
      "Input \u001b[1;32mIn [65]\u001b[0m, in \u001b[0;36m<cell line: 1>\u001b[1;34m()\u001b[0m\n\u001b[1;32m----> 1\u001b[0m \u001b[38;5;28mprint\u001b[39m(\u001b[43mtotal\u001b[49m)\n",
      "\u001b[1;31mNameError\u001b[0m: name 'total' is not defined"
     ]
    }
   ],
   "source": [
    "print(total)"
   ]
  },
  {
   "cell_type": "code",
   "execution_count": 68,
   "id": "76ab6b41",
   "metadata": {},
   "outputs": [],
   "source": [
    "def whatever(b, c):\n",
    "    total = b + c\n",
    "    return total\n",
    "total = whatever(4,5)"
   ]
  },
  {
   "cell_type": "code",
   "execution_count": 69,
   "id": "ef55f382",
   "metadata": {},
   "outputs": [
    {
     "name": "stdout",
     "output_type": "stream",
     "text": [
      "9\n"
     ]
    }
   ],
   "source": [
    "print(total)"
   ]
  },
  {
   "cell_type": "code",
   "execution_count": 71,
   "id": "8d4bb027",
   "metadata": {},
   "outputs": [
    {
     "name": "stdout",
     "output_type": "stream",
     "text": [
      "2\n",
      "1\n"
     ]
    }
   ],
   "source": [
    "def whatever():\n",
    "    y = 2 # local variable\n",
    "    print(y)\n",
    "y = 1 # Global Variable\n",
    "whatever()\n",
    "print(y)"
   ]
  },
  {
   "cell_type": "code",
   "execution_count": 72,
   "id": "8f305d08",
   "metadata": {},
   "outputs": [],
   "source": [
    "def say_something():\n",
    "    what_to_say = \"Hi\"\n",
    "    now_say_it()\n",
    "    \n",
    "def now_say_it():\n",
    "    print(what_to_say)\n"
   ]
  },
  {
   "cell_type": "code",
   "execution_count": 73,
   "id": "9f010db3",
   "metadata": {},
   "outputs": [
    {
     "name": "stdout",
     "output_type": "stream",
     "text": [
      "Hi\n"
     ]
    }
   ],
   "source": [
    "say_something()"
   ]
  },
  {
   "cell_type": "code",
   "execution_count": 74,
   "id": "31c75361",
   "metadata": {},
   "outputs": [
    {
     "name": "stdout",
     "output_type": "stream",
     "text": [
      "Hi\n"
     ]
    }
   ],
   "source": [
    "now_say_it()"
   ]
  },
  {
   "cell_type": "code",
   "execution_count": 75,
   "id": "b5401fda",
   "metadata": {},
   "outputs": [
    {
     "name": "stdout",
     "output_type": "stream",
     "text": [
      "Hello\n"
     ]
    }
   ],
   "source": [
    "def say_something():\n",
    "    what_to_say = \"Hi\"\n",
    "    now_say_it()\n",
    "    \n",
    "def now_say_it():\n",
    "    print(\"Hello\")\n",
    "\n",
    "now_say_it()"
   ]
  },
  {
   "cell_type": "code",
   "execution_count": 77,
   "id": "531e9bfd",
   "metadata": {},
   "outputs": [
    {
     "name": "stdout",
     "output_type": "stream",
     "text": [
      "Hello\n"
     ]
    }
   ],
   "source": [
    "def say_something():\n",
    "    what_to_say = \"Hi\"\n",
    "    now_say_it()\n",
    "    \n",
    "def now_say_it(h):\n",
    "    print(h)\n",
    "\n",
    "now_say_it(\"Hello\")"
   ]
  },
  {
   "cell_type": "markdown",
   "id": "9e07a4c8",
   "metadata": {},
   "source": [
    "# ASSIGNMENT"
   ]
  },
  {
   "cell_type": "code",
   "execution_count": 31,
   "id": "bd66050c",
   "metadata": {},
   "outputs": [
    {
     "name": "stdout",
     "output_type": "stream",
     "text": [
      "Enter Monthly units 208\n",
      "electric charges for  208 =  3120\n",
      "uniform_charges for  208 =  208\n",
      "fuel_charges for  208 =  1664\n",
      "sales_tax for  208 =  936.0\n",
      "adv_tax for  208 =  156.0\n",
      "tv_fee  208 =  150\n",
      "Total bill for 208 units is =  6234.0\n"
     ]
    }
   ],
   "source": [
    "# Create a program that will call a function to generate KE billing details\n",
    "# on th basis of given input units\n",
    "# The functions will only call other function for any processing and only\n",
    "# Print return values from calling function\n",
    "\n",
    "\n",
    "\n",
    "\n",
    "def bill_main(monthly_units): \n",
    "    \n",
    "    charges = 0\n",
    "    if monthly_units > 0 and monthly_units <=100:\n",
    "        charges = monthly_units * 9\n",
    "    \n",
    "    elif monthly_units > 100 and monthly_units <=200:\n",
    "        charges = monthly_units * 12\n",
    "        \n",
    "    elif monthly_units > 200 and monthly_units <=300:\n",
    "        charges = monthly_units * 15\n",
    "        \n",
    "    elif monthly_units > 300 and monthly_units <=400:\n",
    "        charges = monthly_units * 17\n",
    "        \n",
    "    elif monthly_units > 400 and monthly_units <=500:\n",
    "        charges = monthly_units * 19\n",
    "        \n",
    "    elif monthly_units > 500 and monthly_units <=600:\n",
    "        charges = monthly_units * 22\n",
    "        \n",
    "    elif monthly_units > 600 and monthly_units <=700:\n",
    "        charges = monthly_units * 25\n",
    "        \n",
    "    elif monthly_units > 700:\n",
    "        charges = monthly_units * 35\n",
    "        \n",
    "    else: # invalid values given\n",
    "        charges = -1\n",
    "        \n",
    "        \n",
    "    \n",
    "    #electric_charges = electricity(monthly_units)\n",
    "\n",
    "    electric_charges =  charges\n",
    "    print(\"electric charges for \", monthly_units, \"= \",electric_charges)\n",
    "   \n",
    "     \n",
    "    uniform_charges = 1 * monthly_units\n",
    "    print(\"uniform_charges for \", monthly_units, \"= \",uniform_charges)\n",
    "    \n",
    "    fuel_charges = 8 * monthly_units\n",
    "    print(\"fuel_charges for \", monthly_units, \"= \",fuel_charges)\n",
    "    \n",
    "    sales_tax = 30 / 100 * electric_charges\n",
    "    print(\"sales_tax for \", monthly_units, \"= \",sales_tax)\n",
    "    \n",
    "\n",
    "    adv_tax = 5 / 100 * electric_charges\n",
    "    print(\"adv_tax for \", monthly_units, \"= \",adv_tax)\n",
    "    \n",
    "\n",
    "    tv_fee = 150\n",
    "    print(\"tv_fee \", monthly_units, \"= \",tv_fee)\n",
    "\n",
    "        \n",
    "    total_bill = electric_charges + uniform_charges + fuel_charges + sales_tax + adv_tax + tv_fee\n",
    "    print(\"Total bill for\", monthly_units, \"units is = \", total_bill)\n",
    "    \n",
    "\n",
    "# testing_units = [252, 112, 349, 700, -22, 450, 116, 10374, 1152, 6065, 14279, -1, 8478, 1193]\n",
    "units = int(input(\"Enter Monthly units \"))   \n",
    "bill_main(units)"
   ]
  },
  {
   "cell_type": "code",
   "execution_count": 2,
   "id": "ce0e3a0f",
   "metadata": {},
   "outputs": [
    {
     "name": "stdout",
     "output_type": "stream",
     "text": [
      "Enter Monthly units 300\n",
      "electric charges for  300 =  4500\n",
      "uniform_charges for  300 =  300\n",
      "fuel_charges for  300 =  2400\n",
      "sales_tax for  300 =  1350.0\n",
      "adv_tax for  300 =  225.0\n",
      "tv_fee  300 =  150\n",
      "Total bill for 300 units is =  8925.0\n"
     ]
    }
   ],
   "source": [
    "# Create a program that will call a function to generate KE billing details\n",
    "# on th basis of given input units\n",
    "# The functions will only call other function for any processing and only\n",
    "# Print return values from calling function\n",
    "\n",
    "\n",
    "\n",
    "\n",
    "def bill_main(monthly_units): \n",
    "    \n",
    "    charges = 0\n",
    "    if monthly_units > 0 and monthly_units <=100:\n",
    "        charges = 9\n",
    "    \n",
    "    elif monthly_units > 100 and monthly_units <=200:\n",
    "        charges = 12\n",
    "        \n",
    "    elif monthly_units > 200 and monthly_units <=300:\n",
    "        charges = 15\n",
    "        \n",
    "    elif monthly_units > 300 and monthly_units <=400:\n",
    "        charges = 17\n",
    "        \n",
    "    elif monthly_units > 400 and monthly_units <=500:\n",
    "        charges = 19\n",
    "        \n",
    "    elif monthly_units > 500 and monthly_units <=600:\n",
    "        charges = 22\n",
    "        \n",
    "    elif monthly_units > 600 and monthly_units <=700:\n",
    "        charges = 25\n",
    "        \n",
    "    elif monthly_units > 700:\n",
    "        charges = 35\n",
    "        \n",
    "    else: # invalid values given\n",
    "        charges = -1\n",
    "         \n",
    "    electric_charges = charges * monthly_units\n",
    "    print(\"electric charges for \", monthly_units, \"= \",electric_charges)\n",
    "        \n",
    "        \n",
    "    \n",
    "    #electric_charges = electricity(monthly_units)\n",
    "\n",
    "     \n",
    "    uniform_charges = 1 * monthly_units\n",
    "    print(\"uniform_charges for \", monthly_units, \"= \",uniform_charges)\n",
    "    \n",
    "    fuel_charges = 8 * monthly_units\n",
    "    print(\"fuel_charges for \", monthly_units, \"= \",fuel_charges)\n",
    "    \n",
    "    sales_tax = 30 / 100 * electric_charges\n",
    "    print(\"sales_tax for \", monthly_units, \"= \",sales_tax)\n",
    "    \n",
    "\n",
    "    adv_tax = 5 / 100 * electric_charges\n",
    "    print(\"adv_tax for \", monthly_units, \"= \",adv_tax)\n",
    "    \n",
    "\n",
    "    tv_fee = 150 * 1\n",
    "    print(\"tv_fee \", monthly_units, \"= \",tv_fee)\n",
    "\n",
    "        \n",
    "    total_bill = electric_charges + uniform_charges + fuel_charges + sales_tax + adv_tax + tv_fee\n",
    "    print(\"Total bill for\", monthly_units, \"units is = \", total_bill)\n",
    "    \n",
    "\n",
    "# testing_units = [252, 112, 349, 700, -22, 450, 116, 10374, 1152, 6065, 14279, -1, 8478, 1193]\n",
    "units = int(input(\"Enter Monthly units \"))   \n",
    "bill_main(units)"
   ]
  },
  {
   "cell_type": "code",
   "execution_count": null,
   "id": "94550ed5",
   "metadata": {},
   "outputs": [],
   "source": []
  },
  {
   "cell_type": "code",
   "execution_count": null,
   "id": "9c760510",
   "metadata": {},
   "outputs": [],
   "source": []
  }
 ],
 "metadata": {
  "kernelspec": {
   "display_name": "Python 3 (ipykernel)",
   "language": "python",
   "name": "python3"
  },
  "language_info": {
   "codemirror_mode": {
    "name": "ipython",
    "version": 3
   },
   "file_extension": ".py",
   "mimetype": "text/x-python",
   "name": "python",
   "nbconvert_exporter": "python",
   "pygments_lexer": "ipython3",
   "version": "3.9.12"
  }
 },
 "nbformat": 4,
 "nbformat_minor": 5
}
