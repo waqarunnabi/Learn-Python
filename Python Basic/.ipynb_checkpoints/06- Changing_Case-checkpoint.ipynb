{
 "cells": [
  {
   "cell_type": "markdown",
   "id": "0649e939",
   "metadata": {},
   "source": [
    "# 24. Changing case"
   ]
  },
  {
   "cell_type": "code",
   "execution_count": 1,
   "id": "cbec06b0",
   "metadata": {},
   "outputs": [
    {
     "data": {
      "text/plain": [
       "'waqar'"
      ]
     },
     "execution_count": 1,
     "metadata": {},
     "output_type": "execute_result"
    }
   ],
   "source": [
    "a = \"waqar\"\n",
    "a"
   ]
  },
  {
   "cell_type": "code",
   "execution_count": 2,
   "id": "54147a0c",
   "metadata": {},
   "outputs": [
    {
     "data": {
      "text/plain": [
       "'WAQAR'"
      ]
     },
     "execution_count": 2,
     "metadata": {},
     "output_type": "execute_result"
    }
   ],
   "source": [
    "a.upper()"
   ]
  },
  {
   "cell_type": "code",
   "execution_count": 3,
   "id": "eecef115",
   "metadata": {},
   "outputs": [
    {
     "data": {
      "text/plain": [
       "'waqar'"
      ]
     },
     "execution_count": 3,
     "metadata": {},
     "output_type": "execute_result"
    }
   ],
   "source": [
    "a.lower()"
   ]
  },
  {
   "cell_type": "code",
   "execution_count": 4,
   "id": "2ae708a5",
   "metadata": {},
   "outputs": [
    {
     "data": {
      "text/plain": [
       "'Waqar'"
      ]
     },
     "execution_count": 4,
     "metadata": {},
     "output_type": "execute_result"
    }
   ],
   "source": [
    "a.title()"
   ]
  },
  {
   "cell_type": "code",
   "execution_count": 6,
   "id": "25bc2013",
   "metadata": {},
   "outputs": [
    {
     "data": {
      "text/plain": [
       "['Cheyenne', 'cheyenne', 'SantaFe', 'santa fe', 'Tucson', 'tucson']"
      ]
     },
     "execution_count": 6,
     "metadata": {},
     "output_type": "execute_result"
    }
   ],
   "source": [
    "cities = [\"Cheyenne\", \"cheyenne\", \"SantaFe\", \"santa fe\", \"Tucson\", \"tucson\"]\n",
    "cities"
   ]
  },
  {
   "cell_type": "code",
   "execution_count": 7,
   "id": "6fffc563",
   "metadata": {},
   "outputs": [
    {
     "data": {
      "text/plain": [
       "['CHEYENNE', 'CHEYENNE', 'SANTAFE', 'SANTA FE', 'TUCSON', 'TUCSON']"
      ]
     },
     "execution_count": 7,
     "metadata": {},
     "output_type": "execute_result"
    }
   ],
   "source": [
    "cities = [word.upper() for word in cities]\n",
    "cities"
   ]
  },
  {
   "cell_type": "code",
   "execution_count": 8,
   "id": "e866a58a",
   "metadata": {},
   "outputs": [
    {
     "data": {
      "text/plain": [
       "['cheyenne', 'cheyenne', 'santafe', 'santa fe', 'tucson', 'tucson']"
      ]
     },
     "execution_count": 8,
     "metadata": {},
     "output_type": "execute_result"
    }
   ],
   "source": [
    "cities = [word.lower() for word in cities]\n",
    "cities"
   ]
  },
  {
   "cell_type": "code",
   "execution_count": 9,
   "id": "872051d8",
   "metadata": {},
   "outputs": [
    {
     "data": {
      "text/plain": [
       "['Cheyenne', 'Cheyenne', 'Santafe', 'Santa Fe', 'Tucson', 'Tucson']"
      ]
     },
     "execution_count": 9,
     "metadata": {},
     "output_type": "execute_result"
    }
   ],
   "source": [
    "cities = [word.title() for word in cities]\n",
    "cities"
   ]
  },
  {
   "cell_type": "code",
   "execution_count": 10,
   "id": "4e624c4f",
   "metadata": {},
   "outputs": [
    {
     "data": {
      "text/plain": [
       "'TUCSON'"
      ]
     },
     "execution_count": 10,
     "metadata": {},
     "output_type": "execute_result"
    }
   ],
   "source": [
    "for word in cities:\n",
    "    result = word.upper()\n",
    "result"
   ]
  },
  {
   "cell_type": "code",
   "execution_count": null,
   "id": "0260abe0",
   "metadata": {},
   "outputs": [],
   "source": []
  },
  {
   "cell_type": "code",
   "execution_count": null,
   "id": "9c4f9f4b",
   "metadata": {},
   "outputs": [],
   "source": []
  },
  {
   "cell_type": "code",
   "execution_count": null,
   "id": "3816d367",
   "metadata": {},
   "outputs": [],
   "source": []
  },
  {
   "cell_type": "code",
   "execution_count": null,
   "id": "60f583de",
   "metadata": {},
   "outputs": [],
   "source": []
  },
  {
   "cell_type": "code",
   "execution_count": null,
   "id": "8e0ee5b1",
   "metadata": {},
   "outputs": [],
   "source": []
  },
  {
   "cell_type": "code",
   "execution_count": null,
   "id": "cfce6dd5",
   "metadata": {},
   "outputs": [],
   "source": []
  },
  {
   "cell_type": "code",
   "execution_count": null,
   "id": "e33f766b",
   "metadata": {},
   "outputs": [],
   "source": []
  },
  {
   "cell_type": "code",
   "execution_count": null,
   "id": "6c4c13bc",
   "metadata": {},
   "outputs": [],
   "source": []
  },
  {
   "cell_type": "code",
   "execution_count": null,
   "id": "4aae8bee",
   "metadata": {},
   "outputs": [],
   "source": []
  }
 ],
 "metadata": {
  "kernelspec": {
   "display_name": "Python 3 (ipykernel)",
   "language": "python",
   "name": "python3"
  },
  "language_info": {
   "codemirror_mode": {
    "name": "ipython",
    "version": 3
   },
   "file_extension": ".py",
   "mimetype": "text/x-python",
   "name": "python",
   "nbconvert_exporter": "python",
   "pygments_lexer": "ipython3",
   "version": "3.9.12"
  }
 },
 "nbformat": 4,
 "nbformat_minor": 5
}
