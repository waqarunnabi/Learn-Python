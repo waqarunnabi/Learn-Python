{
 "cells": [
  {
   "cell_type": "code",
   "execution_count": 7,
   "id": "8a8f2f92",
   "metadata": {},
   "outputs": [
    {
     "name": "stdout",
     "output_type": "stream",
     "text": [
      "['A', 'A', 'A'] ['B', 'C', 'A'] ['D', 'D', 'E']\n"
     ]
    }
   ],
   "source": [
    "# x = [\"A\",\"A\",\"A\",\"B\",\"C\",\"A\",\"D\",\"D\",\"E\"]\n",
    "x = (\"AAABCADDE\")\n",
    "lst = list(x)\n",
    "\n",
    "list_1 = lst[0:3]\n",
    "list_2 = lst[3:6]\n",
    "list_3 = lst[6:]\n",
    "#print(list_1,list_2,list_3)"
   ]
  },
  {
   "cell_type": "code",
   "execution_count": 4,
   "id": "a0bce062",
   "metadata": {},
   "outputs": [
    {
     "name": "stdout",
     "output_type": "stream",
     "text": [
      "['A', 'A', 'A'] \n",
      " ['B', 'C', 'A'] \n",
      " ['D', 'D', 'E'] \n",
      " ['A', 'A', 'A', 'B', 'C'] \n",
      " ['A', 'D', 'D', 'E']\n"
     ]
    }
   ],
   "source": [
    "# x = [\"A\",\"A\",\"A\",\"B\",\"C\",\"A\",\"D\",\"D\",\"E\"]\n",
    "x = (\"AAABCADDE\")\n",
    "lst = list(x)\n",
    "\n",
    "list_1 = lst[:3]\n",
    "list_2 = lst[3:6]\n",
    "list_3 = lst[6:]\n",
    "list_4 = lst[:5]\n",
    "list_5 = lst[5:]\n",
    "#print(list_1,'\\n',list_2,'\\n',list_3,'\\n', list_4,'\\n', list_5)"
   ]
  },
  {
   "cell_type": "markdown",
   "id": "1ea9d959",
   "metadata": {},
   "source": [
    "# 6th Class - OFF  dated: 24-07-2022"
   ]
  },
  {
   "cell_type": "markdown",
   "id": "10ceaf78",
   "metadata": {},
   "source": [
    "# 7th CLASS - 31-07-2022"
   ]
  },
  {
   "cell_type": "code",
   "execution_count": null,
   "id": "b003b7db",
   "metadata": {},
   "outputs": [],
   "source": [
    "#Should done previous Assignment."
   ]
  },
  {
   "cell_type": "code",
   "execution_count": 18,
   "id": "9c75c803",
   "metadata": {},
   "outputs": [
    {
     "name": "stdout",
     "output_type": "stream",
     "text": [
      "[0.2198852772466539, 0.23255813953488372, 0.2966101694915254, 0.27079303675048355, 0.15502183406113537, 0.17288801571709234]\n",
      "0.2246260788002957\n"
     ]
    }
   ],
   "source": [
    "sizes = [523, 645, 708, 1034, 2290, 2545]\n",
    "prices = [115, 150, 210, 280, 355, 440]\n",
    "\n",
    "c = 0\n",
    "\n",
    "# Logic :  m = price/sizes - c # ignore c bcz its zero\n",
    "# Logic : price = size * m + c\n",
    "\n",
    "multipliers = []\n",
    "m =0\n",
    "loc=0\n",
    "for price in prices:\n",
    "    m= price/sizes[loc]\n",
    "    multipliers.append(m)\n",
    "    loc = loc+1\n",
    "    \n",
    "print(multipliers)\n",
    "multiplier = sum(multipliers)/len(multipliers)\n",
    "print(multiplier)"
   ]
  },
  {
   "cell_type": "code",
   "execution_count": 22,
   "id": "3bf8daa7",
   "metadata": {},
   "outputs": [
    {
     "name": "stdout",
     "output_type": "stream",
     "text": [
      "0.2246260788002957\n",
      "predicted : 117.47943921255465 Actual :  115\n",
      "predicted : 144.8838208261907 Actual :  150\n",
      "predicted : 159.03526379060935 Actual :  210\n",
      "predicted : 232.26336547950575 Actual :  280\n",
      "predicted : 514.3937204526771 Actual :  355\n",
      "predicted : 571.6733705467525 Actual :  440\n"
     ]
    }
   ],
   "source": [
    "sizes = [523, 645, 708, 1034, 2290, 2545]\n",
    "prices = [115, 150, 210, 280, 355, 440]\n",
    "\n",
    "c = 0\n",
    "\n",
    "# Logic :  m = price/sizes - c # ignore c bcz its zero\n",
    "# Logic : price = size * m + c\n",
    "\n",
    "multipliers = []\n",
    "m =0\n",
    "# loc=0\n",
    "for loc in range(len(prices)):\n",
    "    m= prices[loc]/sizes[loc]\n",
    "    multipliers.append(m)\n",
    "    loc = loc+1\n",
    "    \n",
    "#print(multipliers)\n",
    "avg_multiplier = sum(multipliers)/len(multipliers)\n",
    "print(avg_multiplier)\n",
    "\n",
    "#testing\n",
    "for  loc in range (len(prices)):\n",
    "    price = avg_multiplier * sizes[loc] +c\n",
    "    print(\"predicted :\", price, \"Actual : \", prices[loc])\n"
   ]
  },
  {
   "cell_type": "markdown",
   "id": "554dc7ba",
   "metadata": {},
   "source": [
    "# DICTIONARIES "
   ]
  },
  {
   "cell_type": "code",
   "execution_count": 24,
   "id": "22f18808",
   "metadata": {},
   "outputs": [
    {
     "name": "stdout",
     "output_type": "stream",
     "text": [
      "{'first name': 'David', 'last name': 'Elliott', 'address': '4803 Wellesley St.'}\n"
     ]
    }
   ],
   "source": [
    "customer_29876 = {\"first name\": \"David\", \"last name\": \"Elliott\", \"address\": \"4803 Wellesley St.\"}\n",
    "print(customer_29876)"
   ]
  },
  {
   "cell_type": "code",
   "execution_count": 25,
   "id": "52975d60",
   "metadata": {},
   "outputs": [
    {
     "name": "stdout",
     "output_type": "stream",
     "text": [
      "{5: 'Finland', 2: 'Norway', 3: 'Sweden', 7: 'Iceland'}\n"
     ]
    }
   ],
   "source": [
    "rankings = {5: \"Finland\", 2: \"Norway\", 3: \"Sweden\",7: \"Iceland\"}\n",
    "print(rankings)"
   ]
  },
  {
   "cell_type": "code",
   "execution_count": 27,
   "id": "d79cb35c",
   "metadata": {},
   "outputs": [
    {
     "name": "stdout",
     "output_type": "stream",
     "text": [
      "{0: 'the lowest number'}\n",
      "{0: 'the lowest number', 'a dozen': 12}\n"
     ]
    }
   ],
   "source": [
    "things_to_remember = {}\n",
    "things_to_remember[0] = \"the lowest number\"\n",
    "print(things_to_remember)\n",
    "things_to_remember[\"a dozen\"] = 12\n",
    "print(things_to_remember)\n"
   ]
  },
  {
   "cell_type": "markdown",
   "id": "01b8f20a",
   "metadata": {},
   "source": [
    "# things to remember\n",
    "### function mean indepndnt of variable\n",
    "### method mean part of variabl"
   ]
  },
  {
   "cell_type": "code",
   "execution_count": 50,
   "id": "f5386dc8",
   "metadata": {},
   "outputs": [
    {
     "name": "stdout",
     "output_type": "stream",
     "text": [
      "{'aic-a01': {'name': 'Kamran', 'Class': 'aic', 'Session': 1}, 'cnc-a01': {'name': 'Ali', 'Class': 'cnc', 'Session': 2}, 'btc-a01': {'name': 'Noman', 'Class': 'btc', 'Session': 3}}\n"
     ]
    }
   ],
   "source": [
    "\n",
    "std1 = {\"name\": \"Kamran\", \"Class\": \"aic\", \"Session\": 1 }\n",
    "std2 = {\"name\": \"Ali\", \"Class\": \"cnc\", \"Session\": 2 }\n",
    "std3 = {\"name\": \"Noman\", \"Class\": \"btc\", \"Session\": 3 }\n",
    "\n",
    "students = {}\n",
    "\n",
    "students[\"aic-a01\"] = std1\n",
    "students[\"cnc-a01\"] = std2\n",
    "students[\"btc-a01\"] = std3\n",
    "\n",
    "print(students)\n"
   ]
  },
  {
   "cell_type": "code",
   "execution_count": 64,
   "id": "f179a6b1",
   "metadata": {},
   "outputs": [
    {
     "ename": "AttributeError",
     "evalue": "'list' object has no attribute 'items'",
     "output_type": "error",
     "traceback": [
      "\u001b[1;31m---------------------------------------------------------------------------\u001b[0m",
      "\u001b[1;31mAttributeError\u001b[0m                            Traceback (most recent call last)",
      "\u001b[1;32mC:\\Users\\AAMIRA~1\\AppData\\Local\\Temp/ipykernel_8184/2513140666.py\u001b[0m in \u001b[0;36m<module>\u001b[1;34m\u001b[0m\n\u001b[0;32m     13\u001b[0m \u001b[1;33m\u001b[0m\u001b[0m\n\u001b[0;32m     14\u001b[0m \u001b[1;31m# print(std1)\u001b[0m\u001b[1;33m\u001b[0m\u001b[1;33m\u001b[0m\u001b[0m\n\u001b[1;32m---> 15\u001b[1;33m \u001b[1;32mfor\u001b[0m \u001b[0meach_key\u001b[0m\u001b[1;33m,\u001b[0m \u001b[0meach_value\u001b[0m \u001b[1;32min\u001b[0m \u001b[0mstd1\u001b[0m\u001b[1;33m.\u001b[0m\u001b[0mitems\u001b[0m\u001b[1;33m(\u001b[0m\u001b[1;33m)\u001b[0m\u001b[1;33m:\u001b[0m\u001b[1;33m\u001b[0m\u001b[1;33m\u001b[0m\u001b[0m\n\u001b[0m\u001b[0;32m     16\u001b[0m     \u001b[0mprint\u001b[0m\u001b[1;33m(\u001b[0m\u001b[0meach_key\u001b[0m\u001b[1;33m,\u001b[0m\u001b[0meach_value\u001b[0m\u001b[1;33m)\u001b[0m\u001b[1;33m\u001b[0m\u001b[1;33m\u001b[0m\u001b[0m\n",
      "\u001b[1;31mAttributeError\u001b[0m: 'list' object has no attribute 'items'"
     ]
    }
   ],
   "source": [
    "#Assignment\n",
    "# for loop to print each dictionary values seperatly\n",
    "# example: \n",
    "# student : aic a01\n",
    "# class aic\n",
    "# name : Kamran\n",
    "# session : 1\n",
    "\n",
    "\n",
    "std1 =  [{\"student\":\"aic a01\", \"name\": \"Kamran\", \"Class\": \"aic\", \"Session\": 1 },\n",
    "        {\"student\":\"cnc c02\",\"name\": \"Ali\", \"Class\": \"cnc\", \"Session\": 2 },\n",
    "        {\"student\":\"btc a03\",\"name\": \"Noman\", \"Class\": \"btc\", \"Session\": 3 }]\n",
    "\n",
    "# print(std1)\n",
    "for each_key, each_value in std1.items():\n",
    "    print(each_key,each_value)"
   ]
  },
  {
   "cell_type": "code",
   "execution_count": null,
   "id": "0749836b",
   "metadata": {},
   "outputs": [],
   "source": []
  }
 ],
 "metadata": {
  "kernelspec": {
   "display_name": "Python 3 (ipykernel)",
   "language": "python",
   "name": "python3"
  },
  "language_info": {
   "codemirror_mode": {
    "name": "ipython",
    "version": 3
   },
   "file_extension": ".py",
   "mimetype": "text/x-python",
   "name": "python",
   "nbconvert_exporter": "python",
   "pygments_lexer": "ipython3",
   "version": "3.9.12"
  }
 },
 "nbformat": 4,
 "nbformat_minor": 5
}
