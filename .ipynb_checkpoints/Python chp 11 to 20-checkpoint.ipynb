{
 "cells": [
  {
   "cell_type": "markdown",
   "id": "518bef6f",
   "metadata": {},
   "source": [
    "# 11. else and elif statements"
   ]
  },
  {
   "cell_type": "code",
   "execution_count": 12,
   "id": "76e3ca0f",
   "metadata": {},
   "outputs": [
    {
     "name": "stdout",
     "output_type": "stream",
     "text": [
      "Enter Student Name aa\n",
      "Enter Student's Father Name aa\n",
      "Enter Student Roll Number 3535\n",
      "Enter Subject1 Number out of 100 55\n",
      "Enter Subject2 Number out of 100 55\n",
      "Enter Subject3 Number out of 100 55\n",
      "Enter Subject4 Number out of 100 55\n",
      "Enter Subject5 Number out of 100 55\n",
      "Name: aa\n",
      "Father Name: aa\n",
      "Roll Number: 3535\n",
      "Obtain Marks 275\n",
      "Percantage: 55.00000000000001\n",
      "Grade: D\n"
     ]
    }
   ],
   "source": [
    "sname = input(\"Enter Student Name \")\n",
    "fname = input(\"Enter Student's Father Name \")\n",
    "rollnum = int(input(\"Enter Student Roll Number \"))\n",
    "sub1 = int(input(\"Enter Subject1 Number out of 100 \"))\n",
    "sub2 = int(input(\"Enter Subject2 Number out of 100 \"))\n",
    "sub3 = int(input(\"Enter Subject3 Number out of 100 \"))\n",
    "sub4 = int(input(\"Enter Subject4 Number out of 100 \"))\n",
    "sub5 = int(input(\"Enter Subject5 Number out of 100 \"))\n",
    "\n",
    "totaksub = 5\n",
    "totalmarks = 500\n",
    "obtmarks = (sub1 + sub2 + sub3 + sub4 + sub5)\n",
    "percantage = obtmarks / totalmarks * 100\n",
    "\n",
    "if percantage >= 90:\n",
    "    grade = \"A+\"\n",
    "elif percantage >= 80:\n",
    "    grade = \"A\"\n",
    "elif percantage >= 70:\n",
    "    grade = \"B\"\n",
    "elif percantage >= 60:\n",
    "    grade = \"C\"\n",
    "elif percantage >= 50:\n",
    "    grade = \"D\"\n",
    "else:\n",
    "     grade = \"F\"\n",
    "\n",
    "\n",
    "\n",
    "print(\"Name: \" + sname)\n",
    "print(\"Father Name: \" + fname)\n",
    "print(\"Roll Number: \" + str(rollnum))\n",
    "print(\"Obtain Marks \" + str(obtmarks))\n",
    "print(\"Percantage: \" + str(percantage)) \n",
    "print(\"Grade: \" + str(grade)) \n",
    "\n"
   ]
  },
  {
   "cell_type": "markdown",
   "id": "95b8b94b",
   "metadata": {},
   "source": [
    "# 12. Testing sets of conditions"
   ]
  },
  {
   "cell_type": "markdown",
   "id": "f10b4f7d",
   "metadata": {},
   "source": [
    "## and return True only if all input conditions are True\n",
    "## or rerurn True if either of the condition is True \n",
    "## not return in iversion of the input"
   ]
  },
  {
   "cell_type": "code",
   "execution_count": 8,
   "id": "9a55898c",
   "metadata": {},
   "outputs": [
    {
     "data": {
      "text/plain": [
       "True"
      ]
     },
     "execution_count": 8,
     "metadata": {},
     "output_type": "execute_result"
    }
   ],
   "source": [
    "True and True\n"
   ]
  },
  {
   "cell_type": "code",
   "execution_count": 7,
   "id": "8ce88560",
   "metadata": {},
   "outputs": [
    {
     "data": {
      "text/plain": [
       "False"
      ]
     },
     "execution_count": 7,
     "metadata": {},
     "output_type": "execute_result"
    }
   ],
   "source": [
    "True and False"
   ]
  },
  {
   "cell_type": "code",
   "execution_count": 9,
   "id": "94cbe7e5",
   "metadata": {},
   "outputs": [
    {
     "data": {
      "text/plain": [
       "False"
      ]
     },
     "execution_count": 9,
     "metadata": {},
     "output_type": "execute_result"
    }
   ],
   "source": [
    "False and True"
   ]
  },
  {
   "cell_type": "code",
   "execution_count": 10,
   "id": "84b6f27a",
   "metadata": {},
   "outputs": [
    {
     "data": {
      "text/plain": [
       "True"
      ]
     },
     "execution_count": 10,
     "metadata": {},
     "output_type": "execute_result"
    }
   ],
   "source": [
    "False or (not False)"
   ]
  },
  {
   "cell_type": "code",
   "execution_count": 11,
   "id": "4bcd8f62",
   "metadata": {},
   "outputs": [
    {
     "data": {
      "text/plain": [
       "True"
      ]
     },
     "execution_count": 11,
     "metadata": {},
     "output_type": "execute_result"
    }
   ],
   "source": [
    "True or False"
   ]
  },
  {
   "cell_type": "markdown",
   "id": "ddceb59b",
   "metadata": {},
   "source": [
    "# 13. if statements nested"
   ]
  },
  {
   "cell_type": "code",
   "execution_count": 14,
   "id": "b0da823c",
   "metadata": {},
   "outputs": [
    {
     "name": "stdout",
     "output_type": "stream",
     "text": [
      "per80\n",
      "E for Pre-Eng, M for Pre-MedM\n",
      "Eligible for Dow\n"
     ]
    }
   ],
   "source": [
    "per = float(input(\"Percentage! \"))\n",
    "sub = input('E for Pre-Eng, M for Pre-Med')\n",
    "\n",
    "if per >= 80 and sub == 'E':\n",
    "    print(\"You can go to NED\")\n",
    "    \n",
    "elif per >=70 and sub == 'E':\n",
    "    print(\"You can go to KU\")\n",
    "    \n",
    "elif per >= 80 and sub == 'M':\n",
    "    print(\"Eligible for Dow\")\n",
    "    \n",
    "elif per >=70 and sub == 'M':\n",
    "    print(\"Eligible for SMC\")\n",
    "    \n",
    "else:\n",
    "    print(\"You can join private Uni\")"
   ]
  },
  {
   "cell_type": "code",
   "execution_count": 1,
   "id": "bfc3fbb5",
   "metadata": {},
   "outputs": [
    {
     "ename": "SyntaxError",
     "evalue": "invalid syntax (2176833713.py, line 14)",
     "output_type": "error",
     "traceback": [
      "\u001b[1;36m  Input \u001b[1;32mIn [1]\u001b[1;36m\u001b[0m\n\u001b[1;33m    elif age >=18 and salary_per_month == 0 and age <=22 gender == 'M':\u001b[0m\n\u001b[1;37m                                                         ^\u001b[0m\n\u001b[1;31mSyntaxError\u001b[0m\u001b[1;31m:\u001b[0m invalid syntax\n"
     ]
    }
   ],
   "source": [
    "age = int(input(\"What is your Age \"))\n",
    "gender = input(\"Specify Gender M/F \")\n",
    "salary_per_month = float(input(\"Enter your salary ($) \"))\n",
    "\n",
    "if age < 18:\n",
    "    print(\"Under Age! \")\n",
    "\n",
    "elif age >=60:\n",
    "    print('Issue Life time Card')\n",
    "\n",
    "elif age >= 18 and salary_per_month >= 100000:\n",
    "    print('Issue short Expiry Card')\n",
    "    \n",
    "elif age >=18 and salary_per_month == 0 and age <=22 gender == 'M':\n",
    "    print('Issue a longer Expiry Card')\n",
    "    \n",
    "elif age >=18 and salary_per_month == 0 and age <=22 gender == 'F':\n",
    "    print('Issue a longer Expiry Card')\n",
    "\n",
    "else:\n",
    "    print('Issue a longer Expiry Card')"
   ]
  },
  {
   "cell_type": "code",
   "execution_count": 3,
   "id": "043d17c6",
   "metadata": {},
   "outputs": [
    {
     "name": "stdout",
     "output_type": "stream",
     "text": [
      "What is your Age 23\n",
      "Specify Gender M/F M\n",
      "Enter your salary ($) 4224252\n"
     ]
    }
   ],
   "source": [
    "age = int(input(\"What is your Age \"))\n",
    "gender = input(\"Specify Gender M/F \")\n",
    "salary_per_month = float(input(\"Enter your salary ($) \"))\n",
    "\n",
    "if age <17:\n",
    "        print(\"Under age\")\n",
    "        \n",
    "elif gender == 'M':\n",
    "    \n",
    "    if age <30 and salary_per_month == 0:\n",
    "        print('Issue short Expiry Card')\n",
    "    \n",
    "    \n",
    "\n",
    "else:\n",
    "    if age < 22:\n",
    "        print('Issue a longer Expiry Card')"
   ]
  },
  {
   "cell_type": "markdown",
   "id": "6070f9c5",
   "metadata": {},
   "source": [
    "# 14. Comments"
   ]
  },
  {
   "cell_type": "code",
   "execution_count": null,
   "id": "ebea2428",
   "metadata": {},
   "outputs": [],
   "source": [
    "# This program adds two number\n",
    "# Ctrl + fwd slash /"
   ]
  },
  {
   "cell_type": "code",
   "execution_count": 10,
   "id": "f122e1c9",
   "metadata": {},
   "outputs": [
    {
     "data": {
      "text/plain": [
       "'\\nMulti line comment\\nMulti line comment\\n'"
      ]
     },
     "execution_count": 10,
     "metadata": {},
     "output_type": "execute_result"
    }
   ],
   "source": [
    "'''\n",
    "Multi line comment\n",
    "Multi line comment\n",
    "'''"
   ]
  },
  {
   "cell_type": "markdown",
   "id": "d7cc6b33",
   "metadata": {},
   "source": [
    "# 15. Lists"
   ]
  },
  {
   "cell_type": "code",
   "execution_count": 36,
   "id": "0719b4db",
   "metadata": {},
   "outputs": [
    {
     "name": "stdout",
     "output_type": "stream",
     "text": [
      "<class 'list'>\n",
      "45\n"
     ]
    }
   ],
   "source": [
    "khi_temp = [10, 20, 21, 30, 30, 32, 28, 29, \"Pakistan\"]\n",
    "\n",
    "print(type(khi_temp))\n",
    "\n",
    "# var = 10\n",
    "#print(var)\n",
    "\n",
    "khi_temp[6] = 45\n",
    "\n",
    "print(khi_temp[6])"
   ]
  },
  {
   "cell_type": "code",
   "execution_count": 37,
   "id": "fc822ba7",
   "metadata": {},
   "outputs": [
    {
     "ename": "IndexError",
     "evalue": "list index out of range",
     "output_type": "error",
     "traceback": [
      "\u001b[1;31m---------------------------------------------------------------------------\u001b[0m",
      "\u001b[1;31mIndexError\u001b[0m                                Traceback (most recent call last)",
      "Input \u001b[1;32mIn [37]\u001b[0m, in \u001b[0;36m<cell line: 1>\u001b[1;34m()\u001b[0m\n\u001b[1;32m----> 1\u001b[0m \u001b[38;5;28mprint\u001b[39m(\u001b[43mkhi_temp\u001b[49m\u001b[43m[\u001b[49m\u001b[38;5;241;43m21\u001b[39;49m\u001b[43m]\u001b[49m)\n",
      "\u001b[1;31mIndexError\u001b[0m: list index out of range"
     ]
    }
   ],
   "source": [
    "print(khi_temp[21])\n",
    "\n",
    "# Error out of range"
   ]
  },
  {
   "cell_type": "markdown",
   "id": "4c474c93",
   "metadata": {},
   "source": [
    "# 16. Lists: Adding and changing elements"
   ]
  },
  {
   "cell_type": "markdown",
   "id": "81ca0f78",
   "metadata": {},
   "source": [
    "Append function for add data"
   ]
  },
  {
   "cell_type": "code",
   "execution_count": 39,
   "id": "0b238f48",
   "metadata": {},
   "outputs": [],
   "source": [
    "khi_temp.append(\"Zindabad\")"
   ]
  },
  {
   "cell_type": "code",
   "execution_count": 40,
   "id": "bbd2deff",
   "metadata": {},
   "outputs": [
    {
     "data": {
      "text/plain": [
       "[10, 20, 21, 30, 30, 32, 45, 29, 'Pakistan', 'Zindabad']"
      ]
     },
     "execution_count": 40,
     "metadata": {},
     "output_type": "execute_result"
    }
   ],
   "source": [
    "khi_temp"
   ]
  },
  {
   "cell_type": "code",
   "execution_count": 25,
   "id": "00220923",
   "metadata": {},
   "outputs": [],
   "source": [
    "khi_temp.append(66)"
   ]
  },
  {
   "cell_type": "markdown",
   "id": "9c320210",
   "metadata": {},
   "source": [
    "# 17. Lists: Taking slices out of them"
   ]
  },
  {
   "cell_type": "code",
   "execution_count": 31,
   "id": "28165ded",
   "metadata": {},
   "outputs": [],
   "source": [
    "khi_temp.insert(4,31)"
   ]
  },
  {
   "cell_type": "code",
   "execution_count": 30,
   "id": "1fe32596",
   "metadata": {},
   "outputs": [
    {
     "name": "stdout",
     "output_type": "stream",
     "text": [
      "[21, 30, 32]\n"
     ]
    }
   ],
   "source": [
    "print(khi_temp[2:5])"
   ]
  },
  {
   "cell_type": "code",
   "execution_count": 33,
   "id": "ff44b892",
   "metadata": {},
   "outputs": [],
   "source": [
    "# starting position inclusive\n",
    "# ending position exclusive"
   ]
  },
  {
   "cell_type": "markdown",
   "id": "b23a6946",
   "metadata": {},
   "source": [
    "# 18. Lists: Deleting and removing elements"
   ]
  },
  {
   "cell_type": "code",
   "execution_count": 41,
   "id": "6e40fd4a",
   "metadata": {},
   "outputs": [
    {
     "name": "stdout",
     "output_type": "stream",
     "text": [
      "[20, 21, 30, 30, 32, 45, 29, 'Pakistan', 'Zindabad']\n"
     ]
    }
   ],
   "source": [
    "del khi_temp[0]\n",
    "print(khi_temp)"
   ]
  },
  {
   "cell_type": "code",
   "execution_count": 42,
   "id": "03f756be",
   "metadata": {},
   "outputs": [
    {
     "name": "stdout",
     "output_type": "stream",
     "text": [
      "[20, 21, 30, 30, 32, 45, 29, 'Pakistan']\n"
     ]
    }
   ],
   "source": [
    "khi_temp.remove('Zindabad')\n",
    "print(khi_temp)"
   ]
  },
  {
   "cell_type": "code",
   "execution_count": 43,
   "id": "23522861",
   "metadata": {},
   "outputs": [],
   "source": [
    "khi_temp.remove(30)"
   ]
  },
  {
   "cell_type": "code",
   "execution_count": 44,
   "id": "6dc91e35",
   "metadata": {},
   "outputs": [
    {
     "name": "stdout",
     "output_type": "stream",
     "text": [
      "[20, 21, 30, 32, 45, 29, 'Pakistan']\n"
     ]
    }
   ],
   "source": [
    "print(khi_temp)"
   ]
  },
  {
   "cell_type": "code",
   "execution_count": 45,
   "id": "96d2560f",
   "metadata": {},
   "outputs": [
    {
     "name": "stdout",
     "output_type": "stream",
     "text": [
      "[20, 21, 32, 45, 29, 'Pakistan']\n"
     ]
    }
   ],
   "source": [
    "khi_temp.remove(30)\n",
    "print(khi_temp)"
   ]
  },
  {
   "cell_type": "markdown",
   "id": "89574fb4",
   "metadata": {},
   "source": [
    "# 19. Lists: popping elements"
   ]
  },
  {
   "cell_type": "code",
   "execution_count": 47,
   "id": "e78de2a5",
   "metadata": {},
   "outputs": [
    {
     "data": {
      "text/plain": [
       "21"
      ]
     },
     "execution_count": 47,
     "metadata": {},
     "output_type": "execute_result"
    }
   ],
   "source": [
    "khi_temp.pop(0)"
   ]
  },
  {
   "cell_type": "code",
   "execution_count": 48,
   "id": "2118b242",
   "metadata": {},
   "outputs": [
    {
     "name": "stdout",
     "output_type": "stream",
     "text": [
      "[32, 45, 29, 'Pakistan']\n"
     ]
    }
   ],
   "source": [
    "print(khi_temp)"
   ]
  },
  {
   "cell_type": "markdown",
   "id": "ce8dfae8",
   "metadata": {},
   "source": [
    "# 20. Tuples"
   ]
  },
  {
   "cell_type": "code",
   "execution_count": 49,
   "id": "6860ae94",
   "metadata": {},
   "outputs": [
    {
     "data": {
      "text/plain": [
       "tuple"
      ]
     },
     "execution_count": 49,
     "metadata": {},
     "output_type": "execute_result"
    }
   ],
   "source": [
    "pk_temp = (10, 20, 30)\n",
    "\n",
    "type(pk_temp)"
   ]
  },
  {
   "cell_type": "code",
   "execution_count": 52,
   "id": "7445bb85",
   "metadata": {},
   "outputs": [
    {
     "data": {
      "text/plain": [
       "30"
      ]
     },
     "execution_count": 52,
     "metadata": {},
     "output_type": "execute_result"
    }
   ],
   "source": [
    "pk_temp[2]"
   ]
  },
  {
   "cell_type": "markdown",
   "id": "38ea0a8e",
   "metadata": {},
   "source": [
    "tuples values are constant"
   ]
  },
  {
   "cell_type": "code",
   "execution_count": 54,
   "id": "b8d5e9ab",
   "metadata": {},
   "outputs": [
    {
     "ename": "TypeError",
     "evalue": "'tuple' object does not support item assignment",
     "output_type": "error",
     "traceback": [
      "\u001b[1;31m---------------------------------------------------------------------------\u001b[0m",
      "\u001b[1;31mTypeError\u001b[0m                                 Traceback (most recent call last)",
      "Input \u001b[1;32mIn [54]\u001b[0m, in \u001b[0;36m<cell line: 1>\u001b[1;34m()\u001b[0m\n\u001b[1;32m----> 1\u001b[0m pk_temp[\u001b[38;5;241m0\u001b[39m] \u001b[38;5;241m=\u001b[39m \u001b[38;5;241m11\u001b[39m\n",
      "\u001b[1;31mTypeError\u001b[0m: 'tuple' object does not support item assignment"
     ]
    }
   ],
   "source": [
    "pk_temp[0] = 11\n",
    "\n",
    "# value can't change"
   ]
  },
  {
   "cell_type": "code",
   "execution_count": 55,
   "id": "33cd7da1",
   "metadata": {},
   "outputs": [
    {
     "data": {
      "text/plain": [
       "3"
      ]
     },
     "execution_count": 55,
     "metadata": {},
     "output_type": "execute_result"
    }
   ],
   "source": [
    "len(pk_temp)"
   ]
  },
  {
   "cell_type": "code",
   "execution_count": null,
   "id": "7d5ac800",
   "metadata": {},
   "outputs": [],
   "source": []
  }
 ],
 "metadata": {
  "kernelspec": {
   "display_name": "Python 3 (ipykernel)",
   "language": "python",
   "name": "python3"
  },
  "language_info": {
   "codemirror_mode": {
    "name": "ipython",
    "version": 3
   },
   "file_extension": ".py",
   "mimetype": "text/x-python",
   "name": "python",
   "nbconvert_exporter": "python",
   "pygments_lexer": "ipython3",
   "version": "3.9.12"
  }
 },
 "nbformat": 4,
 "nbformat_minor": 5
}
