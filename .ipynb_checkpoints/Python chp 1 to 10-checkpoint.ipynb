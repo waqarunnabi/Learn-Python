{
 "cells": [
  {
   "cell_type": "markdown",
   "id": "4b9bfafa",
   "metadata": {},
   "source": [
    "Two type of language \\\n",
    "Static type and Dynamic type \\\n",
    "Python is Dynamic"
   ]
  },
  {
   "cell_type": "code",
   "execution_count": 5,
   "id": "14b7ed7f",
   "metadata": {
    "scrolled": true
   },
   "outputs": [
    {
     "name": "stdout",
     "output_type": "stream",
     "text": [
      "<class 'float'>\n",
      "22.0\n"
     ]
    }
   ],
   "source": [
    "num1 = 22.0\n",
    "print(type(num1))\n",
    "print(num1)"
   ]
  },
  {
   "cell_type": "code",
   "execution_count": 4,
   "id": "0ec28bca",
   "metadata": {},
   "outputs": [
    {
     "name": "stdout",
     "output_type": "stream",
     "text": [
      "<class 'str'>\n",
      "Pakistan\n"
     ]
    }
   ],
   "source": [
    "num1 = \"Pakistan\"\n",
    "print(type(num1))\n",
    "print(num1)"
   ]
  },
  {
   "cell_type": "code",
   "execution_count": 6,
   "id": "54642a2c",
   "metadata": {},
   "outputs": [
    {
     "name": "stdout",
     "output_type": "stream",
     "text": [
      "78.0\n",
      "-34.0\n",
      "0.39285714285714285\n",
      "1232.0\n"
     ]
    }
   ],
   "source": [
    "print(num1 + 56)\n",
    "print(num1 - 56)\n",
    "print(num1 / 56)\n",
    "print(num1 * 56)"
   ]
  },
  {
   "cell_type": "code",
   "execution_count": 8,
   "id": "d1a24c64",
   "metadata": {},
   "outputs": [
    {
     "name": "stdout",
     "output_type": "stream",
     "text": [
      "Please Enter a number45\n",
      "45\n",
      "<class 'str'>\n"
     ]
    }
   ],
   "source": [
    "num = input(\"Please Enter a number\")\n",
    "print(num)\n",
    "print(type(num))"
   ]
  },
  {
   "cell_type": "code",
   "execution_count": 9,
   "id": "20ef26b4",
   "metadata": {},
   "outputs": [
    {
     "name": "stdout",
     "output_type": "stream",
     "text": [
      "45\n",
      "<class 'int'>\n"
     ]
    }
   ],
   "source": [
    "int_num = int(num)\n",
    "print(int_num)\n",
    "print(type(int_num))"
   ]
  },
  {
   "cell_type": "code",
   "execution_count": 11,
   "id": "3fb96793",
   "metadata": {},
   "outputs": [
    {
     "name": "stdout",
     "output_type": "stream",
     "text": [
      "Please Enter a number 12\n",
      "Please Enter a number 23\n",
      "5\n"
     ]
    }
   ],
   "source": [
    "num2 = input(\"Please Enter a number 1\")\n",
    "num3 = input(\"Please Enter a number 2\")\n",
    "num4 = int(num2) + int(num3)\n",
    "print(num4)"
   ]
  },
  {
   "cell_type": "code",
   "execution_count": 12,
   "id": "27697c4b",
   "metadata": {},
   "outputs": [
    {
     "name": "stdout",
     "output_type": "stream",
     "text": [
      "Please Enter a number 14\n",
      "Please Enter a number 25\n",
      "9\n"
     ]
    }
   ],
   "source": [
    "num2 = int(input(\"Please Enter a number 1\"))\n",
    "num3 = int(input(\"Please Enter a number 2\"))\n",
    "num4 = num2 + num3\n",
    "print(num4)"
   ]
  },
  {
   "cell_type": "markdown",
   "id": "f4aee648",
   "metadata": {},
   "source": [
    "Assignment \\\n",
    "2 input lene hai phir un sum add division milti krna hai"
   ]
  },
  {
   "cell_type": "markdown",
   "id": "f70b7f00",
   "metadata": {},
   "source": [
    "### PEP 8 is python guide line"
   ]
  },
  {
   "cell_type": "code",
   "execution_count": 13,
   "id": "2d34c8e5",
   "metadata": {},
   "outputs": [
    {
     "name": "stdout",
     "output_type": "stream",
     "text": [
      "10\n"
     ]
    }
   ],
   "source": [
    "age = 10\n",
    "print(age)"
   ]
  },
  {
   "cell_type": "code",
   "execution_count": 15,
   "id": "a0b02c90",
   "metadata": {},
   "outputs": [
    {
     "name": "stdout",
     "output_type": "stream",
     "text": [
      "30\n"
     ]
    }
   ],
   "source": [
    "age += 20 # age = age + 10\n",
    "print(age)"
   ]
  },
  {
   "cell_type": "markdown",
   "id": "f49b5df9",
   "metadata": {},
   "source": [
    "-= \\\n",
    "/= \\\n",
    "*= "
   ]
  },
  {
   "cell_type": "code",
   "execution_count": 18,
   "id": "0daa43e2",
   "metadata": {},
   "outputs": [
    {
     "name": "stdout",
     "output_type": "stream",
     "text": [
      "Hello Pakistan\n"
     ]
    }
   ],
   "source": [
    "greeting = \"Hello\"\n",
    "country = \"Pakistan\"\n",
    "greet_country = greeting + \" \" + country\n",
    "print(greet_country)"
   ]
  },
  {
   "cell_type": "markdown",
   "id": "8a072822",
   "metadata": {},
   "source": [
    "### Assignment Person details Marksheet with score"
   ]
  },
  {
   "cell_type": "markdown",
   "id": "acce113e",
   "metadata": {},
   "source": [
    "### Condition Statements"
   ]
  },
  {
   "cell_type": "code",
   "execution_count": 23,
   "id": "ba561b1a",
   "metadata": {},
   "outputs": [
    {
     "name": "stdout",
     "output_type": "stream",
     "text": [
      "Yep, it's cat.\n"
     ]
    }
   ],
   "source": [
    "species = \"cat\"\n",
    "if species == \"cat\":\n",
    "    print(\"Yep, it's cat.\")"
   ]
  },
  {
   "cell_type": "code",
   "execution_count": 27,
   "id": "a4e7e5a3",
   "metadata": {},
   "outputs": [
    {
     "name": "stdout",
     "output_type": "stream",
     "text": [
      "Please state ur Gender g/bb\n",
      "Gender Provided is b\n"
     ]
    }
   ],
   "source": [
    "gender = input(\"Please state ur Gender g/b\")\n",
    "print(\"Gender Provided is \" + gender)"
   ]
  },
  {
   "cell_type": "code",
   "execution_count": 28,
   "id": "21382768",
   "metadata": {},
   "outputs": [
    {
     "name": "stdout",
     "output_type": "stream",
     "text": [
      "Please Sit Left Column\n"
     ]
    }
   ],
   "source": [
    "if gender == 'g':\n",
    "    print(\"Please SIt in Right Column\")\n",
    "else:\n",
    "    print(\"Please Sit Left Column\")"
   ]
  },
  {
   "cell_type": "code",
   "execution_count": 33,
   "id": "177f7904",
   "metadata": {},
   "outputs": [
    {
     "name": "stdout",
     "output_type": "stream",
     "text": [
      "Please Sit Left Column\n",
      "Please Sit Left Column\n",
      "Please Sit Left Column\n"
     ]
    }
   ],
   "source": [
    "if gender == 'g':\n",
    "    print(\"Please SIt in Right Column\")\n",
    "    print(\"Please SIt in Right Column\")\n",
    "    print(\"Please SIt in Right Column\")\n",
    "else:\n",
    "    print(\"Please Sit Left Column\")\n",
    "    print(\"Please Sit Left Column\")\n",
    "    print(\"Please Sit Left Column\")"
   ]
  },
  {
   "cell_type": "code",
   "execution_count": 35,
   "id": "fdf2af6c",
   "metadata": {},
   "outputs": [
    {
     "name": "stdout",
     "output_type": "stream",
     "text": [
      "Enter your age: 17\n",
      "Non-Aduld\n"
     ]
    }
   ],
   "source": [
    "age = int(input(\"Enter your age: \"))\n",
    "if age >= 18:\n",
    "    print(\"Adult\")\n",
    "else:\n",
    "    print(\"Non-Aduld\")"
   ]
  },
  {
   "cell_type": "code",
   "execution_count": 17,
   "id": "de9b0bbe",
   "metadata": {},
   "outputs": [
    {
     "name": "stdout",
     "output_type": "stream",
     "text": [
      "Enter your age: 16\n",
      "Non-Aduld\n",
      "She is a bad girl\n"
     ]
    }
   ],
   "source": [
    "age = int(input(\"Enter your age: \"))\n",
    "if age >= 18:\n",
    "    print(\"Adult\")\n",
    "    print(\"He is a good boy\")\n",
    "else:\n",
    "    print(\"Non-Aduld\")\n",
    "print(\"She is a bad girl\")"
   ]
  },
  {
   "cell_type": "code",
   "execution_count": 16,
   "id": "1e9031be",
   "metadata": {},
   "outputs": [
    {
     "name": "stdout",
     "output_type": "stream",
     "text": [
      "Are You Pakistani y/n? y\n",
      "You can cast your vote \n"
     ]
    }
   ],
   "source": [
    "nation = input(\"Are You Pakistani y/n? \")\n",
    "if nation==\"y\":\n",
    "    print(\"You can cast your vote \")\n",
    "else:\n",
    "    print(\"You Can't Vote \")"
   ]
  },
  {
   "cell_type": "code",
   "execution_count": 18,
   "id": "1aec71ae",
   "metadata": {},
   "outputs": [
    {
     "name": "stdout",
     "output_type": "stream",
     "text": [
      "Are You Pakistani? Y/Nn\n",
      "You Can't Vote \n"
     ]
    }
   ],
   "source": [
    "nationality = input(\"Are You Pakistani? Y/N\")\n",
    "if nationality == 'y':\n",
    "    age = int(input(\"Please Enter your Age \"))\n",
    "    if age >= 18:\n",
    "        print(\"You can Cast your VOTE \")\n",
    "    else:\n",
    "        print(\"You Can't Vote \")\n",
    "else:\n",
    "    print(\"You Can't Vote \")"
   ]
  },
  {
   "cell_type": "code",
   "execution_count": 1,
   "id": "c3baaf4b",
   "metadata": {},
   "outputs": [
    {
     "name": "stdout",
     "output_type": "stream",
     "text": [
      "Enter Student Name waqar\n",
      "Enter Student's Father Name ali\n",
      "Enter Student Roll Number 3535\n",
      "Enter Subject1 Number out of 100 66\n",
      "Enter Subject2 Number out of 100 66\n",
      "Enter Subject3 Number out of 100 66\n",
      "Enter Subject4 Number out of 100 66\n",
      "Enter Subject5 Number out of 100 66\n",
      "Name: waqar\n",
      "Father Name: ali\n",
      "Roll Number: 3535\n",
      "Obtain Marks 330\n",
      "Percantage: 66.0\n",
      "Grade: C\n"
     ]
    }
   ],
   "source": [
    "sname = input(\"Enter Student Name \")\n",
    "fname = input(\"Enter Student's Father Name \")\n",
    "rollnum = int(input(\"Enter Student Roll Number \"))\n",
    "sub1 = int(input(\"Enter Subject1 Number out of 100 \"))\n",
    "sub2 = int(input(\"Enter Subject2 Number out of 100 \"))\n",
    "sub3 = int(input(\"Enter Subject3 Number out of 100 \"))\n",
    "sub4 = int(input(\"Enter Subject4 Number out of 100 \"))\n",
    "sub5 = int(input(\"Enter Subject5 Number out of 100 \"))\n",
    "\n",
    "totaksub = 5\n",
    "totalmarks = 500\n",
    "obtmarks = (sub1 + sub2 + sub3 + sub4 + sub5)\n",
    "percantage = obtmarks / totalmarks * 100\n",
    "\n",
    "if percantage >= 90:\n",
    "    grade = \"A+\"\n",
    "elif percantage >= 80:\n",
    "    grade = \"A\"\n",
    "elif percantage >= 70:\n",
    "    grade = \"B\"\n",
    "elif percantage >= 60:\n",
    "    grade = \"C\"\n",
    "elif percantage >= 50:\n",
    "    grade = \"D\"\n",
    "else:\n",
    "     grade = \"F\"\n",
    "\n",
    "\n",
    "\n",
    "print(\"Name: \" + sname)\n",
    "print(\"Father Name: \" + fname)\n",
    "print(\"Roll Number: \" + str(rollnum))\n",
    "print(\"Obtain Marks \" + str(obtmarks))\n",
    "print(\"Percantage: \" + str(percantage)) \n",
    "print(\"Grade: \" + str(grade)) \n",
    "\n"
   ]
  },
  {
   "cell_type": "markdown",
   "id": "f6d64233",
   "metadata": {},
   "source": [
    "# 10. Comparison operators"
   ]
  },
  {
   "cell_type": "code",
   "execution_count": 3,
   "id": "160aaff1",
   "metadata": {},
   "outputs": [
    {
     "name": "stdout",
     "output_type": "stream",
     "text": [
      "True\n",
      "True\n",
      "True\n"
     ]
    }
   ],
   "source": [
    "print(1 >= -1)\n",
    "print(2 <=3)\n",
    "print(5 <= (6-1))\n",
    "# >\n",
    "# <\n",
    "# >=\n",
    "# <=\n",
    "# !=\n",
    "# =="
   ]
  },
  {
   "cell_type": "code",
   "execution_count": 4,
   "id": "53b80383",
   "metadata": {},
   "outputs": [
    {
     "name": "stdout",
     "output_type": "stream",
     "text": [
      "False\n"
     ]
    }
   ],
   "source": [
    "print (2 != (1 * 2))"
   ]
  },
  {
   "cell_type": "code",
   "execution_count": null,
   "id": "94a699d1",
   "metadata": {},
   "outputs": [],
   "source": []
  },
  {
   "cell_type": "code",
   "execution_count": null,
   "id": "809f7dda",
   "metadata": {},
   "outputs": [],
   "source": []
  },
  {
   "cell_type": "code",
   "execution_count": null,
   "id": "7bbde0e1",
   "metadata": {},
   "outputs": [],
   "source": []
  },
  {
   "cell_type": "code",
   "execution_count": null,
   "id": "eec95df7",
   "metadata": {},
   "outputs": [],
   "source": []
  },
  {
   "cell_type": "code",
   "execution_count": null,
   "id": "d3ebefec",
   "metadata": {},
   "outputs": [],
   "source": []
  }
 ],
 "metadata": {
  "kernelspec": {
   "display_name": "Python 3 (ipykernel)",
   "language": "python",
   "name": "python3"
  },
  "language_info": {
   "codemirror_mode": {
    "name": "ipython",
    "version": 3
   },
   "file_extension": ".py",
   "mimetype": "text/x-python",
   "name": "python",
   "nbconvert_exporter": "python",
   "pygments_lexer": "ipython3",
   "version": "3.9.12"
  },
  "vscode": {
   "interpreter": {
    "hash": "5addf786bcd861d1ce5006f23111f8cbb206731e5b61b0a5632ba9e0252558a8"
   }
  }
 },
 "nbformat": 4,
 "nbformat_minor": 5
}
