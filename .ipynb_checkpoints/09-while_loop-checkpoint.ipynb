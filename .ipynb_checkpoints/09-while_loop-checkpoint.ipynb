{
 "cells": [
  {
   "cell_type": "markdown",
   "id": "03613883",
   "metadata": {},
   "source": [
    "# While loops"
   ]
  },
  {
   "cell_type": "code",
   "execution_count": null,
   "id": "5e98ec8f",
   "metadata": {},
   "outputs": [
    {
     "name": "stdout",
     "output_type": "stream",
     "text": [
      "Enter a city, or q to quit:iran\n",
      "Enter a city, or q to quit:karachi\n",
      "It's one of the cleanest cities\n",
      "Enter a city, or q to quit:iran\n"
     ]
    }
   ],
   "source": [
    "cleanest_cities = [\"Cheyenne\", \"Santa Fe\", \"Tucson\",\"Great Falls\", \"Honolulu\", \"karachi\"]\n",
    "\n",
    "\n",
    "user_input = \"\"\n",
    "while user_input != \"q\":\n",
    "    user_input = input(\"Enter a city, or q to quit:\")\n",
    "    if user_input != \"q\":\n",
    "        for a_clean_city in cleanest_cities:\n",
    "            if user_input == a_clean_city:\n",
    "                print(\"It's one of the cleanest cities\")\n",
    "                break\n",
    "\n",
    "                "
   ]
  },
  {
   "cell_type": "code",
   "execution_count": 2,
   "id": "d72f39e3",
   "metadata": {},
   "outputs": [
    {
     "name": "stdout",
     "output_type": "stream",
     "text": [
      "Enter a city, or q to quit:karachi\n"
     ]
    },
    {
     "ename": "NameError",
     "evalue": "name 'a_clean_city' is not defined",
     "output_type": "error",
     "traceback": [
      "\u001b[1;31m---------------------------------------------------------------------------\u001b[0m",
      "\u001b[1;31mNameError\u001b[0m                                 Traceback (most recent call last)",
      "Input \u001b[1;32mIn [2]\u001b[0m, in \u001b[0;36m<cell line: 6>\u001b[1;34m()\u001b[0m\n\u001b[0;32m      7\u001b[0m user_input \u001b[38;5;241m=\u001b[39m \u001b[38;5;28minput\u001b[39m(\u001b[38;5;124m\"\u001b[39m\u001b[38;5;124mEnter a city, or q to quit:\u001b[39m\u001b[38;5;124m\"\u001b[39m)\n\u001b[0;32m      8\u001b[0m \u001b[38;5;28;01mif\u001b[39;00m user_input \u001b[38;5;241m!=\u001b[39m \u001b[38;5;124m\"\u001b[39m\u001b[38;5;124mq\u001b[39m\u001b[38;5;124m\"\u001b[39m:\n\u001b[1;32m----> 9\u001b[0m     \u001b[38;5;28;01mwhile\u001b[39;00m \u001b[43ma_clean_city\u001b[49m \u001b[38;5;129;01min\u001b[39;00m cleanest_cities:\n\u001b[0;32m     10\u001b[0m         \u001b[38;5;28;01mif\u001b[39;00m user_input \u001b[38;5;241m==\u001b[39m a_clean_city:\n\u001b[0;32m     11\u001b[0m             \u001b[38;5;28mprint\u001b[39m(\u001b[38;5;124m\"\u001b[39m\u001b[38;5;124mIt\u001b[39m\u001b[38;5;124m'\u001b[39m\u001b[38;5;124ms one of the cleanest cities\u001b[39m\u001b[38;5;124m\"\u001b[39m)\n",
      "\u001b[1;31mNameError\u001b[0m: name 'a_clean_city' is not defined"
     ]
    }
   ],
   "source": [
    "cleanest_cities = [\"Cheyenne\", \"Santa Fe\", \"Tucson\",\n",
    "\"Great Falls\", \"Honolulu\", \"karachi\"]\n",
    "\n",
    "\n",
    "user_input = \"\"\n",
    "while user_input != \"q\":\n",
    "    user_input = input(\"Enter a city, or q to quit:\")\n",
    "    if user_input != \"q\":\n",
    "        while a_clean_city in cleanest_cities:\n",
    "            if user_input == a_clean_city:\n",
    "                print(\"It's one of the cleanest cities\")\n",
    "                break\n",
    "\n",
    "                # not working"
   ]
  },
  {
   "cell_type": "code",
   "execution_count": null,
   "id": "abbc0392",
   "metadata": {},
   "outputs": [],
   "source": [
    "cleanest_cities = [\"Cheyenne\", \"Santa Fe\", \"Tucson\", \"Great Falls\", \"Honolulu\", \"karachi\"]\n",
    "user = input(\"enter city name\")\n",
    "\n",
    "index = 0\n",
    "while index < len(cleanest_cities):\n",
    "    city = cleanest_cities[index]\n",
    "    if user == city:\n",
    "        print(city, \"is one of the cleanest city\", \"at the location\", index)\n",
    "        index += 1 # increment is required\n",
    " \n",
    "    \n",
    "# for index, city in enumerate(cleanest_cities):\n",
    "#     if user == city:\n",
    "#         print(city, \"is one of the cleanest city\", \"at the location\", index)\n",
    "#         index +=1"
   ]
  },
  {
   "cell_type": "code",
   "execution_count": null,
   "id": "1c086dda",
   "metadata": {},
   "outputs": [],
   "source": []
  },
  {
   "cell_type": "markdown",
   "id": "24eefa63",
   "metadata": {},
   "source": [
    "### While loops: Setting a flag"
   ]
  },
  {
   "cell_type": "code",
   "execution_count": 1,
   "id": "74b453ff",
   "metadata": {},
   "outputs": [
    {
     "name": "stdout",
     "output_type": "stream",
     "text": [
      "enter city namekarachi\n",
      "Enter a city, or q to quit:Tucson\n",
      "It's one of the cleanest cities\n",
      "Enter a city, or q to quit:q\n"
     ]
    }
   ],
   "source": [
    "cleanest_cities = [\"Cheyenne\", \"Santa Fe\", \"Tucson\", \"Great Falls\", \"Honolulu\", \"karachi\"]\n",
    "user = input(\"enter city name \")\n",
    "\n",
    "keep_looping = True\n",
    "while keep_looping == True:\n",
    "    user_input = input(\"Enter a city, or q to quit:\")\n",
    "    if user_input != \"q\":\n",
    "        for a_clean_city in cleanest_cities:\n",
    "            if user_input == a_clean_city:\n",
    "                print(\"It's one of the cleanest cities\")\n",
    "                break\n",
    "                \n",
    "    else:\n",
    "        keep_looping = False"
   ]
  },
  {
   "cell_type": "code",
   "execution_count": 4,
   "id": "cb0edc47",
   "metadata": {},
   "outputs": [
    {
     "ename": "IndentationError",
     "evalue": "expected an indented block (83521836.py, line 6)",
     "output_type": "error",
     "traceback": [
      "\u001b[1;36m  Input \u001b[1;32mIn [4]\u001b[1;36m\u001b[0m\n\u001b[1;33m    user_input = input(\"Enter a city, or q to quit:\")\u001b[0m\n\u001b[1;37m    ^\u001b[0m\n\u001b[1;31mIndentationError\u001b[0m\u001b[1;31m:\u001b[0m expected an indented block\n"
     ]
    }
   ],
   "source": [
    "cleanest_cities = [\"Cheyenne\", \"Santa Fe\", \"Tucson\", \"Great Falls\", \"Honolulu\", \"karachi\"]\n",
    "user = input(\"enter city name\")\n",
    "\n",
    "keep_looping = True\n",
    "while keep_looping == True:\n",
    "user_input = input(\"Enter a city, or q to quit:\")\n",
    "if user_input != \"q\":\n",
    "    for a_clean_city in cleanest_cities:\n",
    "        if user_input == a_clean_city:\n",
    "            print(\"It's one of the cleanest cities\")\n",
    "            keep_looping = False\n",
    "            break    \n",
    "        if keep_looping:\n",
    "            print(\"not found\")\n",
    "            break\n",
    "        "
   ]
  },
  {
   "cell_type": "code",
   "execution_count": 7,
   "id": "c323894c",
   "metadata": {},
   "outputs": [
    {
     "name": "stdout",
     "output_type": "stream",
     "text": [
      "enter city nameTucson\n",
      "Enter a city, or q to quit:Tucson\n",
      "not found\n"
     ]
    }
   ],
   "source": [
    "cleanest_cities = [\"Cheyenne\", \"Santa Fe\", \"Tucson\", \"Great Falls\", \"Honolulu\", \"karachi\"]\n",
    "user = input(\"enter city name\")\n",
    "\n",
    "keep_looping = True\n",
    "# while keep_looping == True:\n",
    "user_input = input(\"Enter a city, or q to quit:\")\n",
    "if user_input != \"q\":\n",
    "    for a_clean_city in cleanest_cities:\n",
    "        if user_input == a_clean_city:\n",
    "            print(\"It's one of the cleanest cities\")\n",
    "            keep_looping = False\n",
    "            break    \n",
    "        if keep_looping:\n",
    "            print(\"not found\")\n",
    "            break\n",
    "        "
   ]
  },
  {
   "cell_type": "code",
   "execution_count": 5,
   "id": "9594a1bf",
   "metadata": {},
   "outputs": [
    {
     "name": "stdout",
     "output_type": "stream",
     "text": [
      "City Namek\n",
      "not found\n"
     ]
    }
   ],
   "source": [
    "cleanest_cities = [\"karachi\", \"multan\", \"lahore\", \"islamabad\"]\n",
    "user = input(\"City Name\")\n",
    "if user in cleanest_cities:\n",
    "    print(\" one of clenest city\")\n",
    "    \n",
    "if user != cleanest_cities:\n",
    "    print(\"not found\")"
   ]
  },
  {
   "cell_type": "code",
   "execution_count": 6,
   "id": "677c945a",
   "metadata": {},
   "outputs": [
    {
     "name": "stdout",
     "output_type": "stream",
     "text": [
      "Enter city namr or enter q for exit ka\n",
      "Enter city namr or enter q for exit karachi\n",
      "karachi is a one of big city of pakistan\n",
      "Enter city namr or enter q for exit q\n"
     ]
    }
   ],
   "source": [
    "big_cities = [\"Karachi\", \"karachi\", \"Lahore\", \"lahore\", \"Peshawar\", \"peshawar\", \"Quetta\", \"quetta\", \"Faisalabad\" \"faisalabad\"]\n",
    "\n",
    "user_input = \"\"\n",
    "while user_input != \"q\":\n",
    "    user_input = input(\"Enter city namr or enter q for exit \")\n",
    "    if user_input != \"q\":\n",
    "        for big_city in big_cities:\n",
    "            if user_input == big_city:\n",
    "                print(user_input + \" is a one of big city of pakistan\")\n",
    "                break\n"
   ]
  },
  {
   "cell_type": "code",
   "execution_count": null,
   "id": "cf48049c",
   "metadata": {},
   "outputs": [],
   "source": [
    "print(big_cities)"
   ]
  },
  {
   "cell_type": "code",
   "execution_count": null,
   "id": "7b2a4c1c",
   "metadata": {},
   "outputs": [
    {
     "name": "stdout",
     "output_type": "stream",
     "text": [
      "Enter city namr or enter q for exit ka\n",
      "Not Found\n",
      "Enter city namr or enter q for exit karachi\n",
      "Not Found\n",
      "Enter city namr or enter q for exit karachi\n",
      "Not Found\n"
     ]
    }
   ],
   "source": [
    "big_cities = [\"Karachi\", \"karachi\", \"Lahore\", \"lahore\", \"Peshawar\", \"peshawar\", \"Quetta\", \"quetta\", \"Faisa\" \"faisalabad\"]\n",
    "\n",
    "user_input = \"\"\n",
    "while user_input != \"q\":\n",
    "    user_input = input(\"Enter city namr or enter q for exit \")\n",
    "    if user_input != \"q\":\n",
    "        for big_city in big_cities:\n",
    "            if user_input == big_city:\n",
    "                print(user_input + \" is a one of big city of pakistan\")\n",
    "                break\n",
    "                \n",
    "            else:\n",
    "                user_input = \"Not Found\"\n",
    "                print(user_input)\n",
    "                break\n",
    "\n",
    "# Not Working properly\n"
   ]
  },
  {
   "cell_type": "code",
   "execution_count": 7,
   "id": "05c8b532",
   "metadata": {},
   "outputs": [
    {
     "name": "stdout",
     "output_type": "stream",
     "text": [
      "Enter city name or q for exit : ka\n",
      "ka Not found\n",
      "Enter city name or q for exit : q\n",
      "Thank you for using our program\n"
     ]
    }
   ],
   "source": [
    "big_cities = [\"Karachi\", \"karachi\", \"Lahore\", \"lahore\", \"Peshawar\", \"peshawar\", \"Quetta\", \"quetta\", \"Faisa\" \"faisalabad\"]\n",
    "\n",
    "user = \"\"\n",
    "while user != \"q\":\n",
    "    user = input(\"Enter city name or q for exit : \")\n",
    "    if user in big_cities:\n",
    "        print(user + \" is big city of pakistan\")\n",
    "    elif user == \"q\":\n",
    "        print(\"Thank you for using our program\")\n",
    "        break\n",
    "    else:\n",
    "        print(user + \" Not found\")"
   ]
  },
  {
   "cell_type": "code",
   "execution_count": null,
   "id": "a4be531c",
   "metadata": {},
   "outputs": [],
   "source": []
  },
  {
   "cell_type": "code",
   "execution_count": null,
   "id": "cdd9471f",
   "metadata": {},
   "outputs": [],
   "source": []
  },
  {
   "cell_type": "code",
   "execution_count": null,
   "id": "3795ecd2",
   "metadata": {},
   "outputs": [],
   "source": []
  },
  {
   "cell_type": "code",
   "execution_count": null,
   "id": "82c9f4f0",
   "metadata": {},
   "outputs": [],
   "source": []
  },
  {
   "cell_type": "code",
   "execution_count": null,
   "id": "6b741669",
   "metadata": {},
   "outputs": [],
   "source": []
  }
 ],
 "metadata": {
  "kernelspec": {
   "display_name": "Python 3 (ipykernel)",
   "language": "python",
   "name": "python3"
  },
  "language_info": {
   "codemirror_mode": {
    "name": "ipython",
    "version": 3
   },
   "file_extension": ".py",
   "mimetype": "text/x-python",
   "name": "python",
   "nbconvert_exporter": "python",
   "pygments_lexer": "ipython3",
   "version": "3.9.12"
  }
 },
 "nbformat": 4,
 "nbformat_minor": 5
}
