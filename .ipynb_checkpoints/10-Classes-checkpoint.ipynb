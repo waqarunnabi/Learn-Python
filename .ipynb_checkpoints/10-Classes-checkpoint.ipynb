{
 "cells": [
  {
   "cell_type": "markdown",
   "id": "2b049bbb",
   "metadata": {},
   "source": [
    "# Classes"
   ]
  },
  {
   "cell_type": "code",
   "execution_count": null,
   "id": "67f25531",
   "metadata": {},
   "outputs": [],
   "source": []
  },
  {
   "cell_type": "code",
   "execution_count": 1,
   "id": "2e60426d",
   "metadata": {},
   "outputs": [
    {
     "name": "stdout",
     "output_type": "stream",
     "text": [
      "Waqar Un Nabi\n",
      "<class '__main__.Patient'>\n"
     ]
    }
   ],
   "source": [
    "class Patient():\n",
    "    def __init__(self, last_name):\n",
    "        self.last_name = last_name\n",
    "        print(self.last_name)\n",
    "        \n",
    "my_name = Patient(\"Waqar Un Nabi\")\n",
    "print(type(my_name))"
   ]
  },
  {
   "cell_type": "code",
   "execution_count": 2,
   "id": "8702b323",
   "metadata": {},
   "outputs": [
    {
     "name": "stdout",
     "output_type": "stream",
     "text": [
      "Waqar Un Nabi Syed 22\n"
     ]
    }
   ],
   "source": [
    "class Patient():\n",
    "    def __init__(self, last_name, first_name, age):\n",
    "        self.last_name = last_name\n",
    "        self.first_name = first_name\n",
    "        self.age = age\n",
    "        print(self.last_name, self.first_name, age)\n",
    "        \n",
    "my_name = Patient(\"Waqar Un Nabi\", \"Syed\", 22)"
   ]
  },
  {
   "cell_type": "code",
   "execution_count": 3,
   "id": "a0788301",
   "metadata": {},
   "outputs": [
    {
     "name": "stdout",
     "output_type": "stream",
     "text": [
      "22 30 35\n"
     ]
    }
   ],
   "source": [
    "class Patient():\n",
    "    def __init__(self, last_name, first_name, age):\n",
    "        self.last_name = last_name\n",
    "        self.first_name = first_name\n",
    "        self.age = age\n",
    "#         print(self.last_name, self.first_name, age)\n",
    "        \n",
    "val1 = Patient(\"Waqar Un Nabi\", \"Syed\", 22)\n",
    "val2 = Patient(\"Khan\", \"Salman\", 30)\n",
    "val3 = Patient(\"Ali\", \"Hassan\", 35)\n",
    "\n",
    "print(val1.age,val2.age, val3.age)"
   ]
  },
  {
   "cell_type": "code",
   "execution_count": 4,
   "id": "8137355e",
   "metadata": {},
   "outputs": [
    {
     "name": "stdout",
     "output_type": "stream",
     "text": [
      "35\n"
     ]
    }
   ],
   "source": [
    "class Patient():\n",
    "    def __init__(self, last_name, first_name, age):\n",
    "        self.last_name = last_name\n",
    "        self.first_name = first_name\n",
    "        self.age = age\n",
    "#         print(self.last_name, self.first_name, age)\n",
    "        \n",
    "val1 = Patient(\"Waqar Un Nabi\", \"Syed\", 22)\n",
    "val2 = Patient(\"Khan\", \"Salman\", 30)\n",
    "val3 = Patient(\"Ali\", \"Hassan\", 35)\n",
    "\n",
    "arr1=[val1.age,val2.age, val3.age]\n",
    "pat_max_age = max(arr1)\n",
    "print(pat_max_age)"
   ]
  },
  {
   "cell_type": "code",
   "execution_count": 5,
   "id": "ef453eab",
   "metadata": {},
   "outputs": [
    {
     "name": "stdout",
     "output_type": "stream",
     "text": [
      "22 30 35\n"
     ]
    },
    {
     "ename": "AttributeError",
     "evalue": "type object 'Patient' has no attribute 'age'",
     "output_type": "error",
     "traceback": [
      "\u001b[1;31m---------------------------------------------------------------------------\u001b[0m",
      "\u001b[1;31mAttributeError\u001b[0m                            Traceback (most recent call last)",
      "Input \u001b[1;32mIn [5]\u001b[0m, in \u001b[0;36m<cell line: 13>\u001b[1;34m()\u001b[0m\n\u001b[0;32m     10\u001b[0m val3 \u001b[38;5;241m=\u001b[39m Patient(\u001b[38;5;124m\"\u001b[39m\u001b[38;5;124mAli\u001b[39m\u001b[38;5;124m\"\u001b[39m, \u001b[38;5;124m\"\u001b[39m\u001b[38;5;124mHassan\u001b[39m\u001b[38;5;124m\"\u001b[39m, \u001b[38;5;241m35\u001b[39m)\n\u001b[0;32m     12\u001b[0m \u001b[38;5;28mprint\u001b[39m(val1\u001b[38;5;241m.\u001b[39mage,val2\u001b[38;5;241m.\u001b[39mage, val3\u001b[38;5;241m.\u001b[39mage)\n\u001b[1;32m---> 13\u001b[0m max_age \u001b[38;5;241m=\u001b[39m \u001b[38;5;28mmax\u001b[39m(\u001b[43mPatient\u001b[49m\u001b[38;5;241;43m.\u001b[39;49m\u001b[43mage\u001b[49m)\n\u001b[0;32m     14\u001b[0m location \u001b[38;5;241m=\u001b[39m patient_age\u001b[38;5;241m.\u001b[39mindex(max_age)\n\u001b[0;32m     15\u001b[0m patient_name \u001b[38;5;241m=\u001b[39m patient_age[location]\n",
      "\u001b[1;31mAttributeError\u001b[0m: type object 'Patient' has no attribute 'age'"
     ]
    }
   ],
   "source": [
    "class Patient():\n",
    "    def __init__(self, last_name, first_name, age):\n",
    "        self.last_name = last_name\n",
    "        self.first_name = first_name\n",
    "        self.age = age\n",
    "#         print(self.last_name, self.first_name, age)\n",
    "        \n",
    "val1 = Patient(\"Waqar Un Nabi\", \"Syed\", 22)\n",
    "val2 = Patient(\"Khan\", \"Salman\", 30)\n",
    "val3 = Patient(\"Ali\", \"Hassan\", 35)\n",
    "\n",
    "print(val1.age,val2.age, val3.age)\n",
    "max_age = max(Patient.age)\n",
    "location = patient_age.index(max_age)\n",
    "patient_name = patient_age[location]\n",
    "last_name = Patient.last_name\n",
    "print(max_age, location)"
   ]
  },
  {
   "cell_type": "markdown",
   "id": "1d5991fc",
   "metadata": {},
   "source": [
    "18-09-2022"
   ]
  },
  {
   "cell_type": "code",
   "execution_count": 6,
   "id": "7c3a0915",
   "metadata": {},
   "outputs": [
    {
     "name": "stdout",
     "output_type": "stream",
     "text": [
      "SalmanKhan\n",
      "Hello Python\n"
     ]
    }
   ],
   "source": [
    "import csv\n",
    "def testing():\n",
    "    print(\"Hello Python\")\n",
    "\n",
    "class Patient():\n",
    "    def __init__(self, last_name, first_name, age):\n",
    "        self.last_name = last_name\n",
    "        self.first_name = first_name\n",
    "        self.age = age\n",
    "        \n",
    "    def get_fullname(self):\n",
    "        full_name = self.first_name + \"\" + self.last_name\n",
    "        print(full_name)\n",
    "        \n",
    "Patient_1 = Patient(\"Khan\", \"Salman\", 50)\n",
    "Patient_1.get_fullname()\n",
    "testing()\n"
   ]
  },
  {
   "cell_type": "code",
   "execution_count": 7,
   "id": "d9c371fc",
   "metadata": {},
   "outputs": [
    {
     "name": "stdout",
     "output_type": "stream",
     "text": [
      "Salman Khan\n",
      "Hello Python\n",
      "Done\n"
     ]
    }
   ],
   "source": [
    "import csv\n",
    "def testing():\n",
    "    print(\"Hello Python\")\n",
    "\n",
    "class Patient():\n",
    "    def __init__(self, last_name, first_name, age):\n",
    "        self.last_name = last_name\n",
    "        self.first_name = first_name\n",
    "        self.age = age\n",
    "        \n",
    "    def get_fullname(self):\n",
    "        full_name = self.first_name + \" \" + self.last_name\n",
    "        print(full_name)\n",
    "        \n",
    "        \n",
    "        \n",
    "def main():\n",
    "    Patient_1 = Patient(\"Khan\", \"Salman\", 50)\n",
    "    Patient_1.get_fullname()\n",
    "    testing()\n",
    "    print(\"Done\")\n",
    "        \n",
    "main()"
   ]
  },
  {
   "cell_type": "code",
   "execution_count": 8,
   "id": "2847ac0e",
   "metadata": {},
   "outputs": [
    {
     "name": "stdout",
     "output_type": "stream",
     "text": [
      "Salman Khan\n",
      "Salman Khan\n",
      "Salman Khan Not Minor\n",
      "Done\n"
     ]
    }
   ],
   "source": [
    "import csv\n",
    "def testing():\n",
    "    print(\"Hello Python\")\n",
    "\n",
    "class Patient():\n",
    "    def __init__(self, last_name, first_name, age):\n",
    "        self.last_name = last_name\n",
    "        self.first_name = first_name\n",
    "        self.age = age\n",
    "        \n",
    "    def get_fullname(self):\n",
    "        full_name = self.first_name + \" \" + self.last_name\n",
    "        print(full_name)\n",
    "        return full_name\n",
    "        \n",
    "    def is_minor(self):\n",
    "        ret_value = self.get_fullname()  + \" Not Minor\"\n",
    "        if self.age < 21:\n",
    "            ret_value = self.get_fullname()  + \" is a minor\"\n",
    "            \n",
    "        print(ret_value)\n",
    "        # return ret_value\n",
    "        \n",
    "        \n",
    "        \n",
    "def main():\n",
    "    patient_1 = Patient(\"Khan\", \"Salman\", 50)\n",
    "    patient_1.get_fullname()\n",
    "    patient_1.is_minor()\n",
    "    print(\"Done\")\n",
    "        \n",
    "main()"
   ]
  },
  {
   "cell_type": "code",
   "execution_count": 9,
   "id": "6c9a9146",
   "metadata": {},
   "outputs": [
    {
     "name": "stdout",
     "output_type": "stream",
     "text": [
      "Salman Khan is a minor\n",
      "Done\n"
     ]
    }
   ],
   "source": [
    "import csv\n",
    "def testing():\n",
    "    print(\"Hello Python\")\n",
    "\n",
    "class Patient():\n",
    "    def __init__(self, last_name, first_name, age):\n",
    "        self.last_name = last_name\n",
    "        self.first_name = first_name\n",
    "        self.age = age\n",
    "        \n",
    "    def get_fullname(self):\n",
    "        full_name = self.first_name + \" \" + self.last_name\n",
    "#         print(full_name)\n",
    "        return full_name\n",
    "        \n",
    "    def is_minor(self):\n",
    "        ret_value = Patient.get_fullname(self) + \" Not Minor\"\n",
    "        if self.age < 21:\n",
    "            ret_value = Patient.get_fullname(self) + \" is a minor\"\n",
    "            \n",
    "        print(ret_value)\n",
    "        # return ret_value\n",
    "        \n",
    "        \n",
    "        \n",
    "def main():\n",
    "    patient_1 = Patient(\"Khan\", \"Salman\", 19)\n",
    "    patient_1.get_fullname()\n",
    "    patient_1.is_minor()\n",
    "    print(\"Done\")\n",
    "        \n",
    "main()"
   ]
  },
  {
   "cell_type": "code",
   "execution_count": 10,
   "id": "ff7f7825",
   "metadata": {},
   "outputs": [
    {
     "name": "stdout",
     "output_type": "stream",
     "text": [
      "Salman Khan\n",
      "Salman Khan\n",
      "Salman Khan is a minor\n",
      "Done\n"
     ]
    }
   ],
   "source": [
    "import csv\n",
    "def testing():\n",
    "    print(\"Hello Python\")\n",
    "\n",
    "class Patient():\n",
    "    def __init__(self, last_name, first_name, age):\n",
    "        self.last_name = last_name\n",
    "        self.first_name = first_name\n",
    "        self.age = age\n",
    "        \n",
    "    def get_fullname(self):\n",
    "        full_name = self.first_name + \" \" + self.last_name\n",
    "        print(full_name)\n",
    "        return full_name\n",
    "        \n",
    "    def is_minor(self):\n",
    "        ret_value = \"Not Minor\"\n",
    "        if self.age < 21:\n",
    "            ret_value = \" is a minor\"\n",
    "            ret_value = Patient.get_fullname(self) + ret_value\n",
    "            \n",
    "            \n",
    "        print(ret_value)\n",
    "        # return ret_value\n",
    "              \n",
    "        \n",
    "def main():\n",
    "    patient_1 = Patient(\"Khan\", \"Salman\", 15)\n",
    "    patient_1.get_fullname()\n",
    "    patient_1.is_minor()\n",
    "    print(\"Done\")\n",
    "        \n",
    "main()"
   ]
  },
  {
   "cell_type": "code",
   "execution_count": null,
   "id": "f46cc4fc",
   "metadata": {},
   "outputs": [],
   "source": []
  },
  {
   "cell_type": "code",
   "execution_count": null,
   "id": "68b6a7b4",
   "metadata": {},
   "outputs": [],
   "source": []
  },
  {
   "cell_type": "code",
   "execution_count": null,
   "id": "aee9470f",
   "metadata": {},
   "outputs": [],
   "source": []
  },
  {
   "cell_type": "code",
   "execution_count": null,
   "id": "774b343a",
   "metadata": {},
   "outputs": [],
   "source": []
  },
  {
   "cell_type": "code",
   "execution_count": null,
   "id": "9c1a1a1b",
   "metadata": {},
   "outputs": [],
   "source": []
  },
  {
   "cell_type": "code",
   "execution_count": null,
   "id": "974804b9",
   "metadata": {},
   "outputs": [],
   "source": []
  },
  {
   "cell_type": "code",
   "execution_count": null,
   "id": "13e14755",
   "metadata": {},
   "outputs": [],
   "source": []
  },
  {
   "cell_type": "code",
   "execution_count": null,
   "id": "876e4bc9",
   "metadata": {},
   "outputs": [],
   "source": []
  }
 ],
 "metadata": {
  "kernelspec": {
   "display_name": "Python 3 (ipykernel)",
   "language": "python",
   "name": "python3"
  },
  "language_info": {
   "codemirror_mode": {
    "name": "ipython",
    "version": 3
   },
   "file_extension": ".py",
   "mimetype": "text/x-python",
   "name": "python",
   "nbconvert_exporter": "python",
   "pygments_lexer": "ipython3",
   "version": "3.9.12"
  }
 },
 "nbformat": 4,
 "nbformat_minor": 5
}
