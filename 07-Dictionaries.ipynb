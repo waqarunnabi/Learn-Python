{
 "cells": [
  {
   "cell_type": "markdown",
   "id": "5d602821",
   "metadata": {},
   "source": [
    "# Dictionaries:"
   ]
  },
  {
   "cell_type": "code",
   "execution_count": 1,
   "id": "c5d0f90c",
   "metadata": {},
   "outputs": [
    {
     "name": "stdout",
     "output_type": "stream",
     "text": [
      "{'first name': 'David', 'last name': 'Elliott', 'address': '4803 Wellesley St.'}\n"
     ]
    }
   ],
   "source": [
    "customer_29876 = {\"first name\": \"David\", \"last name\": \"Elliott\", \"address\": \"4803 Wellesley St.\"}\n",
    "print(customer_29876)"
   ]
  },
  {
   "cell_type": "code",
   "execution_count": 2,
   "id": "908f626d",
   "metadata": {},
   "outputs": [
    {
     "name": "stdout",
     "output_type": "stream",
     "text": [
      "{5: 'Finland', 2: 'Norway', 3: 'Sweden', 7: 'Iceland'}\n"
     ]
    }
   ],
   "source": [
    "rankings = {5: \"Finland\", 2: \"Norway\", 3: \"Sweden\",7: \"Iceland\"}\n",
    "print(rankings)"
   ]
  },
  {
   "cell_type": "code",
   "execution_count": 3,
   "id": "cf87a5dd",
   "metadata": {},
   "outputs": [
    {
     "name": "stdout",
     "output_type": "stream",
     "text": [
      "{0: 'the lowest number'}\n",
      "{0: 'the lowest number', 'a dozen': 12}\n"
     ]
    }
   ],
   "source": [
    "things_to_remember = {}\n",
    "things_to_remember[0] = \"the lowest number\"\n",
    "print(things_to_remember)\n",
    "things_to_remember[\"a dozen\"] = 12\n",
    "print(things_to_remember)\n"
   ]
  },
  {
   "cell_type": "markdown",
   "id": "3f242735",
   "metadata": {},
   "source": [
    "# things to remember\n",
    "### function mean indepndnt of variable\n",
    "### method mean part of variabl"
   ]
  },
  {
   "cell_type": "code",
   "execution_count": 4,
   "id": "97908f5f",
   "metadata": {},
   "outputs": [
    {
     "name": "stdout",
     "output_type": "stream",
     "text": [
      "{'aic-a01': {'name': 'Kamran', 'Class': 'aic', 'Session': 1}, 'cnc-a01': {'name': 'Ali', 'Class': 'cnc', 'Session': 2}, 'btc-a01': {'name': 'Noman', 'Class': 'btc', 'Session': 3}}\n"
     ]
    }
   ],
   "source": [
    "\n",
    "std1 = {\"name\": \"Kamran\", \"Class\": \"aic\", \"Session\": 1 }\n",
    "std2 = {\"name\": \"Ali\", \"Class\": \"cnc\", \"Session\": 2 }\n",
    "std3 = {\"name\": \"Noman\", \"Class\": \"btc\", \"Session\": 3 }\n",
    "\n",
    "students = {}\n",
    "\n",
    "students[\"aic-a01\"] = std1\n",
    "students[\"cnc-a01\"] = std2\n",
    "students[\"btc-a01\"] = std3\n",
    "\n",
    "print(students)\n"
   ]
  },
  {
   "cell_type": "code",
   "execution_count": 5,
   "id": "e5d452aa",
   "metadata": {},
   "outputs": [
    {
     "name": "stdout",
     "output_type": "stream",
     "text": [
      "{'student': 'aic a01', 'name': 'Kamran', 'Class': 'aic', 'Session': 1}\n",
      "{'student': 'cnc c02', 'name': 'Ali', 'Class': 'cnc', 'Session': 2}\n",
      "{'student': 'btc a03', 'name': 'Noman', 'Class': 'btc', 'Session': 3}\n"
     ]
    }
   ],
   "source": [
    "#Assignment\n",
    "# for loop to print each dictionary values seperatly\n",
    "# example: \n",
    "# student : aic a01\n",
    "# class aic\n",
    "# name : Kamran\n",
    "# session : 1\n",
    "\n",
    "\n",
    "std1 =  [{\"student\":\"aic a01\", \"name\": \"Kamran\", \"Class\": \"aic\", \"Session\": 1 },\n",
    "        {\"student\":\"cnc c02\",\"name\": \"Ali\", \"Class\": \"cnc\", \"Session\": 2 },\n",
    "        {\"student\":\"btc a03\",\"name\": \"Noman\", \"Class\": \"btc\", \"Session\": 3 }]\n",
    "\n",
    "# print(std1)\n",
    "for each_key in std1:\n",
    "    print(each_key)"
   ]
  },
  {
   "cell_type": "code",
   "execution_count": 6,
   "id": "b8b45a5b",
   "metadata": {},
   "outputs": [
    {
     "ename": "AttributeError",
     "evalue": "module 'pandas' has no attribute 'x'",
     "output_type": "error",
     "traceback": [
      "\u001b[1;31m---------------------------------------------------------------------------\u001b[0m",
      "\u001b[1;31mAttributeError\u001b[0m                            Traceback (most recent call last)",
      "Input \u001b[1;32mIn [6]\u001b[0m, in \u001b[0;36m<cell line: 3>\u001b[1;34m()\u001b[0m\n\u001b[0;32m      1\u001b[0m \u001b[38;5;28;01mimport\u001b[39;00m \u001b[38;5;21;01mpandas\u001b[39;00m \u001b[38;5;28;01mas\u001b[39;00m \u001b[38;5;21;01mnp\u001b[39;00m\n\u001b[0;32m      2\u001b[0m x \u001b[38;5;241m=\u001b[39m np\u001b[38;5;241m.\u001b[39marray([\u001b[38;5;241m1\u001b[39m,\u001b[38;5;241m2\u001b[39m,\u001b[38;5;241m3\u001b[39m,\u001b[38;5;241m4\u001b[39m,\u001b[38;5;241m5\u001b[39m])\n\u001b[1;32m----> 3\u001b[0m \u001b[43mnp\u001b[49m\u001b[38;5;241;43m.\u001b[39;49m\u001b[43mx\u001b[49m\n",
      "File \u001b[1;32mC:\\ProgramData\\Anaconda3\\lib\\site-packages\\pandas\\__init__.py:261\u001b[0m, in \u001b[0;36m__getattr__\u001b[1;34m(name)\u001b[0m\n\u001b[0;32m    257\u001b[0m     \u001b[38;5;28;01mfrom\u001b[39;00m \u001b[38;5;21;01mpandas\u001b[39;00m\u001b[38;5;21;01m.\u001b[39;00m\u001b[38;5;21;01mcore\u001b[39;00m\u001b[38;5;21;01m.\u001b[39;00m\u001b[38;5;21;01marrays\u001b[39;00m\u001b[38;5;21;01m.\u001b[39;00m\u001b[38;5;21;01msparse\u001b[39;00m \u001b[38;5;28;01mimport\u001b[39;00m SparseArray \u001b[38;5;28;01mas\u001b[39;00m _SparseArray\n\u001b[0;32m    259\u001b[0m     \u001b[38;5;28;01mreturn\u001b[39;00m _SparseArray\n\u001b[1;32m--> 261\u001b[0m \u001b[38;5;28;01mraise\u001b[39;00m \u001b[38;5;167;01mAttributeError\u001b[39;00m(\u001b[38;5;124mf\u001b[39m\u001b[38;5;124m\"\u001b[39m\u001b[38;5;124mmodule \u001b[39m\u001b[38;5;124m'\u001b[39m\u001b[38;5;124mpandas\u001b[39m\u001b[38;5;124m'\u001b[39m\u001b[38;5;124m has no attribute \u001b[39m\u001b[38;5;124m'\u001b[39m\u001b[38;5;132;01m{\u001b[39;00mname\u001b[38;5;132;01m}\u001b[39;00m\u001b[38;5;124m'\u001b[39m\u001b[38;5;124m\"\u001b[39m)\n",
      "\u001b[1;31mAttributeError\u001b[0m: module 'pandas' has no attribute 'x'"
     ]
    }
   ],
   "source": [
    "import pandas as np\n",
    "x = np.array([1,2,3,4,5])\n",
    "np.x\n",
    "\n",
    "\n",
    "    "
   ]
  },
  {
   "cell_type": "code",
   "execution_count": 7,
   "id": "c1d81b4d",
   "metadata": {},
   "outputs": [
    {
     "name": "stdout",
     "output_type": "stream",
     "text": [
      "15\n"
     ]
    }
   ],
   "source": [
    "number = [1,2,3,4,5]\n",
    "sum = 0\n",
    "for numbers in number:\n",
    "    sum += numbers\n",
    "print(sum)"
   ]
  },
  {
   "cell_type": "code",
   "execution_count": 8,
   "id": "5ffd539f",
   "metadata": {},
   "outputs": [
    {
     "name": "stdout",
     "output_type": "stream",
     "text": [
      "Please enter an interger8\n"
     ]
    },
    {
     "ename": "TypeError",
     "evalue": "'str' object cannot be interpreted as an integer",
     "output_type": "error",
     "traceback": [
      "\u001b[1;31m---------------------------------------------------------------------------\u001b[0m",
      "\u001b[1;31mTypeError\u001b[0m                                 Traceback (most recent call last)",
      "Input \u001b[1;32mIn [8]\u001b[0m, in \u001b[0;36m<cell line: 3>\u001b[1;34m()\u001b[0m\n\u001b[0;32m      1\u001b[0m \u001b[38;5;28;01mimport\u001b[39;00m \u001b[38;5;21;01mpandas\u001b[39;00m \u001b[38;5;28;01mas\u001b[39;00m \u001b[38;5;21;01mnp\u001b[39;00m\n\u001b[0;32m      2\u001b[0m x \u001b[38;5;241m=\u001b[39m \u001b[38;5;28minput\u001b[39m(\u001b[38;5;124m\"\u001b[39m\u001b[38;5;124mPlease enter an interger\u001b[39m\u001b[38;5;124m\"\u001b[39m)\n\u001b[1;32m----> 3\u001b[0m num \u001b[38;5;241m=\u001b[39m \u001b[38;5;28;43mrange\u001b[39;49m\u001b[43m(\u001b[49m\u001b[43mx\u001b[49m\u001b[43m)\u001b[49m\n\u001b[0;32m      4\u001b[0m \u001b[38;5;28mprint\u001b[39m(num)\n",
      "\u001b[1;31mTypeError\u001b[0m: 'str' object cannot be interpreted as an integer"
     ]
    }
   ],
   "source": [
    "import pandas as np\n",
    "x = input(\"Please enter an interger\")\n",
    "num = range(x)\n",
    "print(num)\n",
    "\n",
    "    "
   ]
  },
  {
   "cell_type": "code",
   "execution_count": 9,
   "id": "96033e40",
   "metadata": {},
   "outputs": [
    {
     "name": "stdout",
     "output_type": "stream",
     "text": [
      "{'name': 'waqar', 'class': 'x', 'marks': 70}\n",
      "70\n"
     ]
    }
   ],
   "source": [
    "student_29876 = {\"name\": \"waqar\", \"class\": \"x\", \"marks\": 70}\n",
    "print(student_29876)\n",
    "\n",
    "print(student_29876[\"marks\"])"
   ]
  },
  {
   "cell_type": "code",
   "execution_count": 10,
   "id": "d96b9379",
   "metadata": {},
   "outputs": [
    {
     "name": "stdout",
     "output_type": "stream",
     "text": [
      "[70, 50, 40, 60]\n"
     ]
    }
   ],
   "source": [
    "student_29876 = {\"name\": \"waqar\", \"class\": \"x\", \"marks\": [70, 50, 40, 60]}\n",
    "\n",
    "print(student_29876[\"marks\"])"
   ]
  },
  {
   "cell_type": "code",
   "execution_count": 11,
   "id": "e0ae3fbf",
   "metadata": {},
   "outputs": [
    {
     "name": "stdout",
     "output_type": "stream",
     "text": [
      "[70, 50, 40, 60]\n"
     ]
    }
   ],
   "source": [
    "student_29876 = {\"name\": \"waqar\", \"class\": \"x\", \"marks\": [70, 50, 40, 60]}\n",
    "\n",
    "print(student_29876[\"marks\"])"
   ]
  },
  {
   "cell_type": "code",
   "execution_count": 15,
   "id": "e6720f7f",
   "metadata": {},
   "outputs": [
    {
     "name": "stdout",
     "output_type": "stream",
     "text": [
      "Exam Name: mid\n",
      "50\n"
     ]
    }
   ],
   "source": [
    "student_29876 = {\"name\": \"waqar\",\n",
    "                 \"class\": \"AI\",\n",
    "                 \"marks\": {\"quiz1\": 40, \"quiz2\": 45, \"mid\": 50, \"final\":55}}\n",
    "exam_name= input(\"Exam Name: \")\n",
    "print(student_29876[\"marks\"][exam_name])"
   ]
  },
  {
   "cell_type": "code",
   "execution_count": 14,
   "id": "6bd6cd82",
   "metadata": {},
   "outputs": [
    {
     "name": "stdout",
     "output_type": "stream",
     "text": [
      "Exam Name: mid\n",
      "50\n"
     ]
    }
   ],
   "source": [
    "student_29876 = {\"name\": \"waqar\",\n",
    "                 \"class\": \"AI\",\n",
    "                 \"marks\": {\"quiz1\": 40, \"quiz2\": 45, \"mid\": 50, \"final\":55}}\n",
    "exam_name= input(\"Exam Name: \")\n",
    "marks = student_29876[\"marks\"]\n",
    "print(marks[exam_name])"
   ]
  },
  {
   "cell_type": "code",
   "execution_count": 16,
   "id": "6dd64f8e",
   "metadata": {},
   "outputs": [],
   "source": [
    "# 10 student\n",
    "# 2 classes\n",
    "# 4 exam\n",
    "# 3 attempt allowed\n",
    "# take take student name and exam_name\n",
    "# as input and show in which class\n",
    "# the student get maximum marks"
   ]
  },
  {
   "cell_type": "code",
   "execution_count": 17,
   "id": "b33f182c",
   "metadata": {},
   "outputs": [
    {
     "name": "stdout",
     "output_type": "stream",
     "text": [
      "[{'name': 'waqar', 'class_AI': {'name': 'AI', 'marks': {'quiz1': 40, 'quiz2': 45, 'mid': 50, 'final': 55}}, 'class_CNC': {'name': 'CNC', 'marks': {'quiz1': 40, 'quiz2': 45, 'mid': 50, 'final': 55}}}]\n"
     ]
    }
   ],
   "source": [
    "students = []\n",
    "class1= {\"name\":\"AI\",\n",
    "         \"marks\":\n",
    "         {\"quiz1\": 40,\n",
    "          \"quiz2\": 45,\n",
    "          \"mid\": 50,\n",
    "          \"final\": 55,\n",
    "         \n",
    "         }\n",
    "    }\n",
    "\n",
    "class2= {\"name\":\"CNC\",\n",
    "         \"marks\":\n",
    "         {\"quiz1\": 40,\n",
    "          \"quiz2\": 45,\n",
    "          \"mid\": 50,\n",
    "          \"final\": 55,\n",
    "         \n",
    "         }\n",
    "    }\n",
    "\n",
    "student_01 = {\n",
    "    \"name\": \"waqar\",\n",
    "    \"class_AI\": class1,\n",
    "    \"class_CNC\": class2\n",
    "}\n",
    "\n",
    "students.append(student_01)\n",
    "print(students)"
   ]
  },
  {
   "cell_type": "code",
   "execution_count": 18,
   "id": "1947ea7d",
   "metadata": {},
   "outputs": [
    {
     "name": "stdout",
     "output_type": "stream",
     "text": [
      "0.3\n"
     ]
    }
   ],
   "source": [
    "customer_29876 = {\n",
    "\"first name\": \"David\",\n",
    "\"last name\": \"Elliott\",\n",
    "\"address\": \"4803 Wellesley St.\",\n",
    "\"discounts\": [\"brother-in-law\", \"standard\", \"volume\", \"loyalty\",]\n",
    "}\n",
    "\n",
    "discount_amount = 0\n",
    "if \"brother-in-law\" in customer_29876[\"discounts\"]:\n",
    "    discount_amount = .30\n",
    "elif \"loyalty\" in customer_29876[\"discounts\"]:\n",
    "    discount_amount = .15\n",
    "elif \"volume\" in customer_29876[\"discounts\"]:\n",
    "    discount_amount = .10\n",
    "elif \"standard\" in customer_29876[\"discounts\"]:\n",
    "    discount_amount = .05\n",
    "    \n",
    "print(discount_amount)"
   ]
  },
  {
   "cell_type": "code",
   "execution_count": 19,
   "id": "10a54a99",
   "metadata": {},
   "outputs": [
    {
     "name": "stdout",
     "output_type": "stream",
     "text": [
      "0.6\n"
     ]
    }
   ],
   "source": [
    "customer_29876 = {\n",
    "\"first name\": \"David\",\n",
    "\"last name\": \"Elliott\",\n",
    "\"address\": \"4803 Wellesley St.\",\n",
    "\"discounts\": [\"brother-in-law\", \"standard\", \"volume\", \"loyalty\",]\n",
    "}\n",
    "\n",
    "discount_amount = 0\n",
    "if \"brother-in-law\" in customer_29876[\"discounts\"]:\n",
    "    discount_amount += .30\n",
    "if \"loyalty\" in customer_29876[\"discounts\"]:\n",
    "    discount_amount += .15\n",
    "if \"volume\" in customer_29876[\"discounts\"]:\n",
    "    discount_amount += .10\n",
    "if \"standard\" in customer_29876[\"discounts\"]:\n",
    "    discount_amount += .05\n",
    "    \n",
    "print(discount_amount)"
   ]
  },
  {
   "cell_type": "code",
   "execution_count": 20,
   "id": "a63e5ae7",
   "metadata": {},
   "outputs": [
    {
     "name": "stdout",
     "output_type": "stream",
     "text": [
      "Give Student id: 1006\n",
      "Give Student class:ai or cnc: ai\n",
      "Give Student exam:quiz1 or quiz2 or mid or final mid\n",
      "Marks of hasnain in ai mid exam is 53\n"
     ]
    }
   ],
   "source": [
    "class1={\"name\":\"AI\"\n",
    "       }\n",
    "class2={\"name\":\"CNC\"\n",
    "       }\n",
    "students = {\n",
    "\"student_1001\" : {\n",
    "        \"name\" : \"Aamir\",\n",
    "        \"class_ai\" : class1, \"marks_ai\" : {\n",
    "            \"quiz1\" : 90,\n",
    "            \"quiz2\" : 95,\n",
    "            \"mid\" : 80,\n",
    "            \"final\" : 85    \n",
    "        },\n",
    "        \"class_cnc\" : class2, \"marks_cnc\":\n",
    "        {\n",
    "            \"quiz1\" : 40,\n",
    "            \"quiz2\" : 45,\n",
    "            \"mid\" : 50,\n",
    "            \"final\" : 55    \n",
    "        }\n",
    "},\n",
    "\"student_1002\" : {\n",
    "        \"name\" : \"babar\",\n",
    "        \"class_ai\" : class1, \"marks_ai\" : {\n",
    "            \"quiz1\" : 90,\n",
    "            \"quiz2\" : 95,\n",
    "            \"mid\" : 80,\n",
    "            \"final\" : 85    \n",
    "        },\n",
    "        \"class_cnc\" : class2,\n",
    "        \"marks_cnc\":\n",
    "        {\n",
    "            \"quiz1\" : 41,\n",
    "            \"quiz2\" : 46,\n",
    "            \"mid\" : 51,\n",
    "            \"final\" : 56           \n",
    "        }\n",
    "},\n",
    "\"student_1003\" : {\"name\" : \"waqar\", \"class_ai\" : class1, \"marks_ai\":{\n",
    "                \"quiz1\" : 42, \n",
    "                \"quiz2\" : 48, \n",
    "                \"mid\" : 53,\n",
    "                \"final\" : 58}, \n",
    "                \"class_cnc\" : class2, \"marks_cnc\":{\n",
    "                \"quiz1\" : 42, \n",
    "                \"quiz2\" : 48, \n",
    "                \"mid\" : 53,\n",
    "                \"final\" : 58}},\n",
    "\"student_1004\" : {\"name\" : \"zakir\", \"class_ai\" : class1,\"marks_ai\":{\"quiz1\" : 42, \"quiz2\" : 48, \"mid\" : 53,\n",
    "            \"final\" : 58}, \"class_cnc\" : class2, \"marks_cnc\":{\"quiz1\" : 43, \"quiz2\" : 49, \"mid\" : 54,\n",
    "            \"final\" : 59}},\n",
    "\"student_1005\" : {\"name\" : \"hussain\", \"class_ai\" : class1,\"marks_ai\":{\"quiz1\" : 42, \"quiz2\" : 48, \"mid\" : 53,\n",
    "            \"final\" : 58}, \"class_cnc\" : class2, \"marks_cnc\":{\"quiz1\" : 44, \"quiz2\" : 50, \"mid\" : 55,\n",
    "            \"final\" : 60}},\n",
    "\"student_1006\" : {\"name\" : \"hasnain\", \"class_ai\" : class1,\"marks_ai\":{\"quiz1\" : 42, \"quiz2\" : 48, \"mid\" : 53,\n",
    "            \"final\" : 58}, \"class_cnc\" : class2, \"marks_cnc\":{\"quiz1\" : 45, \"quiz2\" : 51, \"mid\" : 56,\n",
    "            \"final\" : 61}},\n",
    "\"student_1007\" : {\"name\" : \"javed\", \"class_ai\" : class1,\"marks_ai\":{\"quiz1\" : 42, \"quiz2\" : 48, \"mid\" : 53,\n",
    "            \"final\" : 58}, \"class_cnc\" : class2, \"marks_cnc\":{\"quiz1\" : 46, \"quiz2\" : 52, \"mid\" : 57,\n",
    "            \"final\" : 62}},\n",
    "\"student_1008\" : {\"name\" : \"jawwad\", \"class_ai\" : class1,\"marks_ai\":{\"quiz1\" : 42, \"quiz2\" : 48, \"mid\" : 53,\n",
    "            \"final\" : 58}, \"class_cnc\" : class2, \"marks_cnc\":{\"quiz1\" : 47, \"quiz2\" : 53, \"mid\" : 58,\n",
    "            \"final\" : 63}},\n",
    "\"student_1009\" : {\"name\" : \"aftab\", \"class_ai\" : class1,\"marks_ai\":{\"quiz1\" : 42, \"quiz2\" : 48, \"mid\" : 53,\n",
    "            \"final\" : 58}, \"class_cnc\" : class2, \"marks_cnc\":{\"quiz1\" : 48, \"quiz2\" : 54, \"mid\" : 59,\n",
    "            \"final\" : 64}},\n",
    "\"student_1010\" : {\"name\" : \"iqbal\", \"class_ai\" : class1,\"marks_ai\":{\"quiz1\" : 42, \"quiz2\" : 48, \"mid\" : 53,\n",
    "            \"final\" : 58}, \"class_cnc\" : class2, \"marks_cnc\":{\"quiz1\" : 49, \"quiz2\" : 55, \"mid\" : 60,\n",
    "            \"final\" : 65}}\n",
    "}\n",
    "stud_id = input (\"Give Student id: \")\n",
    "stud_id = \"student_\" + stud_id\n",
    "stud_class = input (\"Give Student class:ai or cnc: \")\n",
    "stud_class_a = \"marks_\" + stud_class\n",
    "stud_class_b = \"class_\" + stud_class\n",
    "stud_exam = input (\"Give Student exam:quiz1 or quiz2 or mid or final \")\n",
    "print (\"Marks of\" , students[stud_id][\"name\"] , \"in\" , stud_class, stud_exam , \"exam is\" , \n",
    "       students[stud_id][stud_class_a][stud_exam]) "
   ]
  },
  {
   "cell_type": "code",
   "execution_count": null,
   "id": "e7be2760",
   "metadata": {},
   "outputs": [],
   "source": []
  },
  {
   "cell_type": "code",
   "execution_count": null,
   "id": "4d895739",
   "metadata": {},
   "outputs": [],
   "source": []
  },
  {
   "cell_type": "code",
   "execution_count": null,
   "id": "23980592",
   "metadata": {},
   "outputs": [],
   "source": []
  },
  {
   "cell_type": "code",
   "execution_count": null,
   "id": "d6a23bc3",
   "metadata": {},
   "outputs": [],
   "source": []
  },
  {
   "cell_type": "code",
   "execution_count": null,
   "id": "790e22e7",
   "metadata": {},
   "outputs": [],
   "source": []
  },
  {
   "cell_type": "code",
   "execution_count": null,
   "id": "2f8f31d6",
   "metadata": {},
   "outputs": [],
   "source": []
  },
  {
   "cell_type": "markdown",
   "id": "6800b80e",
   "metadata": {},
   "source": [
    "## stream framework"
   ]
  },
  {
   "cell_type": "markdown",
   "id": "b3fbbc52",
   "metadata": {},
   "source": [
    "## .split()"
   ]
  },
  {
   "cell_type": "code",
   "execution_count": 21,
   "id": "4451aab7",
   "metadata": {},
   "outputs": [],
   "source": [
    "a = \"\"\"A function is a block of Python code that robotically does the same thing again\n",
    "and again, whenever you invoke its name. It saves you repetitive coding and\n",
    "makes your code easier to understand.\n",
    "\"\"\""
   ]
  },
  {
   "cell_type": "code",
   "execution_count": 22,
   "id": "e5a28461",
   "metadata": {},
   "outputs": [
    {
     "name": "stdout",
     "output_type": "stream",
     "text": [
      "34 ['A', 'function', 'is', 'a', 'block', 'of', 'Python', 'code', 'that', 'robotically', 'does', 'the', 'same', 'thing', 'again', 'and', 'again,', 'whenever', 'you', 'invoke', 'its', 'name.', 'It', 'saves', 'you', 'repetitive', 'coding', 'and', 'makes', 'your', 'code', 'easier', 'to', 'understand.']\n",
      "True\n"
     ]
    }
   ],
   "source": [
    "word_list = a.split()\n",
    "print(len(word_list), word_list)\n",
    "print('function' in word_list)"
   ]
  },
  {
   "cell_type": "code",
   "execution_count": 24,
   "id": "611130a3",
   "metadata": {},
   "outputs": [],
   "source": [
    "### binary search"
   ]
  },
  {
   "cell_type": "code",
   "execution_count": null,
   "id": "57122194",
   "metadata": {},
   "outputs": [],
   "source": []
  },
  {
   "cell_type": "code",
   "execution_count": null,
   "id": "ce13535f",
   "metadata": {},
   "outputs": [],
   "source": []
  },
  {
   "cell_type": "code",
   "execution_count": null,
   "id": "da73a4c9",
   "metadata": {},
   "outputs": [],
   "source": []
  },
  {
   "cell_type": "code",
   "execution_count": null,
   "id": "e0e9fa78",
   "metadata": {},
   "outputs": [],
   "source": []
  },
  {
   "cell_type": "code",
   "execution_count": null,
   "id": "9fa505df",
   "metadata": {},
   "outputs": [],
   "source": []
  },
  {
   "cell_type": "code",
   "execution_count": null,
   "id": "159d2421",
   "metadata": {},
   "outputs": [],
   "source": []
  },
  {
   "cell_type": "code",
   "execution_count": null,
   "id": "d21eb270",
   "metadata": {},
   "outputs": [],
   "source": []
  }
 ],
 "metadata": {
  "kernelspec": {
   "display_name": "Python 3 (ipykernel)",
   "language": "python",
   "name": "python3"
  },
  "language_info": {
   "codemirror_mode": {
    "name": "ipython",
    "version": 3
   },
   "file_extension": ".py",
   "mimetype": "text/x-python",
   "name": "python",
   "nbconvert_exporter": "python",
   "pygments_lexer": "ipython3",
   "version": "3.9.12"
  }
 },
 "nbformat": 4,
 "nbformat_minor": 5
}
