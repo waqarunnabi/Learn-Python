{
 "cells": [
  {
   "cell_type": "markdown",
   "id": "9372ae6e",
   "metadata": {},
   "source": [
    "# Condition Statements"
   ]
  },
  {
   "cell_type": "code",
   "execution_count": 14,
   "id": "90eb5886",
   "metadata": {},
   "outputs": [
    {
     "name": "stdout",
     "output_type": "stream",
     "text": [
      "Yep, it's cat.\n"
     ]
    }
   ],
   "source": [
    "species = \"cat\"\n",
    "if species == \"cat\":\n",
    "    print(\"Yep, it's cat.\")"
   ]
  },
  {
   "cell_type": "code",
   "execution_count": 15,
   "id": "4057f90c",
   "metadata": {},
   "outputs": [
    {
     "name": "stdout",
     "output_type": "stream",
     "text": [
      "Please state ur Gender g/bg\n",
      "Gender Provided is g\n"
     ]
    }
   ],
   "source": [
    "gender = input(\"Please state ur Gender g/b\")\n",
    "print(\"Gender Provided is \" + gender)"
   ]
  },
  {
   "cell_type": "code",
   "execution_count": 16,
   "id": "7d724d54",
   "metadata": {},
   "outputs": [
    {
     "name": "stdout",
     "output_type": "stream",
     "text": [
      "Please SIt in Right Column\n"
     ]
    }
   ],
   "source": [
    "if gender == 'g':\n",
    "    print(\"Please SIt in Right Column\")\n",
    "else:\n",
    "    print(\"Please Sit Left Column\")"
   ]
  },
  {
   "cell_type": "code",
   "execution_count": 17,
   "id": "efc37966",
   "metadata": {},
   "outputs": [
    {
     "name": "stdout",
     "output_type": "stream",
     "text": [
      "Please SIt in Right Column\n",
      "Please SIt in Right Column\n",
      "Please SIt in Right Column\n"
     ]
    }
   ],
   "source": [
    "if gender == 'g':\n",
    "    print(\"Please SIt in Right Column\")\n",
    "    print(\"Please SIt in Right Column\")\n",
    "    print(\"Please SIt in Right Column\")\n",
    "else:\n",
    "    print(\"Please Sit Left Column\")\n",
    "    print(\"Please Sit Left Column\")\n",
    "    print(\"Please Sit Left Column\")"
   ]
  },
  {
   "cell_type": "code",
   "execution_count": 18,
   "id": "3a2f3906",
   "metadata": {},
   "outputs": [
    {
     "name": "stdout",
     "output_type": "stream",
     "text": [
      "Enter your age: 2\n",
      "Non-Aduld\n"
     ]
    }
   ],
   "source": [
    "age = int(input(\"Enter your age: \"))\n",
    "if age >= 18:\n",
    "    print(\"Adult\")\n",
    "else:\n",
    "    print(\"Non-Aduld\")"
   ]
  },
  {
   "cell_type": "code",
   "execution_count": 19,
   "id": "f8d882bb",
   "metadata": {},
   "outputs": [
    {
     "name": "stdout",
     "output_type": "stream",
     "text": [
      "Enter your age: 2\n",
      "Non-Aduld\n",
      "She is a bad girl\n"
     ]
    }
   ],
   "source": [
    "age = int(input(\"Enter your age: \"))\n",
    "if age >= 18:\n",
    "    print(\"Adult\")\n",
    "    print(\"He is a good boy\")\n",
    "else:\n",
    "    print(\"Non-Aduld\")\n",
    "print(\"She is a bad girl\")"
   ]
  },
  {
   "cell_type": "code",
   "execution_count": 20,
   "id": "b2dd6faa",
   "metadata": {},
   "outputs": [
    {
     "name": "stdout",
     "output_type": "stream",
     "text": [
      "Are You Pakistani y/n? n\n",
      "You Can't Vote \n"
     ]
    }
   ],
   "source": [
    "nation = input(\"Are You Pakistani y/n? \")\n",
    "if nation==\"y\":\n",
    "    print(\"You can cast your vote \")\n",
    "else:\n",
    "    print(\"You Can't Vote \")"
   ]
  },
  {
   "cell_type": "code",
   "execution_count": 21,
   "id": "0ce6f7c1",
   "metadata": {},
   "outputs": [
    {
     "name": "stdout",
     "output_type": "stream",
     "text": [
      "Are You Pakistani? Y/Nn\n",
      "You Can't Vote \n"
     ]
    }
   ],
   "source": [
    "nationality = input(\"Are You Pakistani? Y/N\")\n",
    "if nationality == 'y':\n",
    "    age = int(input(\"Please Enter your Age \"))\n",
    "    if age >= 18:\n",
    "        print(\"You can Cast your VOTE \")\n",
    "    else:\n",
    "        print(\"You Can't Vote \")\n",
    "else:\n",
    "    print(\"You Can't Vote \")"
   ]
  },
  {
   "cell_type": "markdown",
   "id": "77d3f45d",
   "metadata": {},
   "source": [
    "## Assignment Person details Marksheet with score"
   ]
  },
  {
   "cell_type": "code",
   "execution_count": 22,
   "id": "37cde611",
   "metadata": {},
   "outputs": [
    {
     "name": "stdout",
     "output_type": "stream",
     "text": [
      "Enter Student Name ss\n",
      "Enter Student's Father Name ss\n",
      "Enter Student Roll Number ss\n"
     ]
    },
    {
     "ename": "ValueError",
     "evalue": "invalid literal for int() with base 10: 'ss'",
     "output_type": "error",
     "traceback": [
      "\u001b[1;31m---------------------------------------------------------------------------\u001b[0m",
      "\u001b[1;31mValueError\u001b[0m                                Traceback (most recent call last)",
      "Input \u001b[1;32mIn [22]\u001b[0m, in \u001b[0;36m<cell line: 3>\u001b[1;34m()\u001b[0m\n\u001b[0;32m      1\u001b[0m sname \u001b[38;5;241m=\u001b[39m \u001b[38;5;28minput\u001b[39m(\u001b[38;5;124m\"\u001b[39m\u001b[38;5;124mEnter Student Name \u001b[39m\u001b[38;5;124m\"\u001b[39m)\n\u001b[0;32m      2\u001b[0m fname \u001b[38;5;241m=\u001b[39m \u001b[38;5;28minput\u001b[39m(\u001b[38;5;124m\"\u001b[39m\u001b[38;5;124mEnter Student\u001b[39m\u001b[38;5;124m'\u001b[39m\u001b[38;5;124ms Father Name \u001b[39m\u001b[38;5;124m\"\u001b[39m)\n\u001b[1;32m----> 3\u001b[0m rollnum \u001b[38;5;241m=\u001b[39m \u001b[38;5;28;43mint\u001b[39;49m\u001b[43m(\u001b[49m\u001b[38;5;28;43minput\u001b[39;49m\u001b[43m(\u001b[49m\u001b[38;5;124;43m\"\u001b[39;49m\u001b[38;5;124;43mEnter Student Roll Number \u001b[39;49m\u001b[38;5;124;43m\"\u001b[39;49m\u001b[43m)\u001b[49m\u001b[43m)\u001b[49m\n\u001b[0;32m      4\u001b[0m sub1 \u001b[38;5;241m=\u001b[39m \u001b[38;5;28mint\u001b[39m(\u001b[38;5;28minput\u001b[39m(\u001b[38;5;124m\"\u001b[39m\u001b[38;5;124mEnter Subject1 Number out of 100 \u001b[39m\u001b[38;5;124m\"\u001b[39m))\n\u001b[0;32m      5\u001b[0m sub2 \u001b[38;5;241m=\u001b[39m \u001b[38;5;28mint\u001b[39m(\u001b[38;5;28minput\u001b[39m(\u001b[38;5;124m\"\u001b[39m\u001b[38;5;124mEnter Subject2 Number out of 100 \u001b[39m\u001b[38;5;124m\"\u001b[39m))\n",
      "\u001b[1;31mValueError\u001b[0m: invalid literal for int() with base 10: 'ss'"
     ]
    }
   ],
   "source": [
    "sname = input(\"Enter Student Name \")\n",
    "fname = input(\"Enter Student's Father Name \")\n",
    "rollnum = int(input(\"Enter Student Roll Number \"))\n",
    "sub1 = int(input(\"Enter Subject1 Number out of 100 \"))\n",
    "sub2 = int(input(\"Enter Subject2 Number out of 100 \"))\n",
    "sub3 = int(input(\"Enter Subject3 Number out of 100 \"))\n",
    "sub4 = int(input(\"Enter Subject4 Number out of 100 \"))\n",
    "sub5 = int(input(\"Enter Subject5 Number out of 100 \"))\n",
    "\n",
    "totaksub = 5\n",
    "totalmarks = 500\n",
    "obtmarks = (sub1 + sub2 + sub3 + sub4 + sub5)\n",
    "percantage = obtmarks / totalmarks * 100\n",
    "\n",
    "if percantage >= 90:\n",
    "    grade = \"A+\"\n",
    "elif percantage >= 80:\n",
    "    grade = \"A\"\n",
    "elif percantage >= 70:\n",
    "    grade = \"B\"\n",
    "elif percantage >= 60:\n",
    "    grade = \"C\"\n",
    "elif percantage >= 50:\n",
    "    grade = \"D\"\n",
    "else:\n",
    "     grade = \"F\"\n",
    "\n",
    "\n",
    "\n",
    "print(\"Name: \" + sname)\n",
    "print(\"Father Name: \" + fname)\n",
    "print(\"Roll Number: \" + str(rollnum))\n",
    "print(\"Obtain Marks \" + str(obtmarks))\n",
    "print(\"Percantage: \" + str(percantage)) \n",
    "print(\"Grade: \" + str(grade)) \n",
    "\n"
   ]
  },
  {
   "cell_type": "code",
   "execution_count": null,
   "id": "e6d751e4",
   "metadata": {},
   "outputs": [],
   "source": []
  },
  {
   "cell_type": "code",
   "execution_count": null,
   "id": "488350cd",
   "metadata": {},
   "outputs": [],
   "source": []
  },
  {
   "cell_type": "markdown",
   "id": "518bef6f",
   "metadata": {},
   "source": [
    "# 11. else and elif statements"
   ]
  },
  {
   "cell_type": "code",
   "execution_count": 12,
   "id": "76e3ca0f",
   "metadata": {},
   "outputs": [
    {
     "name": "stdout",
     "output_type": "stream",
     "text": [
      "Enter Student Name aa\n",
      "Enter Student's Father Name aa\n",
      "Enter Student Roll Number 3535\n",
      "Enter Subject1 Number out of 100 55\n",
      "Enter Subject2 Number out of 100 55\n",
      "Enter Subject3 Number out of 100 55\n",
      "Enter Subject4 Number out of 100 55\n",
      "Enter Subject5 Number out of 100 55\n",
      "Name: aa\n",
      "Father Name: aa\n",
      "Roll Number: 3535\n",
      "Obtain Marks 275\n",
      "Percantage: 55.00000000000001\n",
      "Grade: D\n"
     ]
    }
   ],
   "source": [
    "sname = input(\"Enter Student Name \")\n",
    "fname = input(\"Enter Student's Father Name \")\n",
    "rollnum = int(input(\"Enter Student Roll Number \"))\n",
    "sub1 = int(input(\"Enter Subject1 Number out of 100 \"))\n",
    "sub2 = int(input(\"Enter Subject2 Number out of 100 \"))\n",
    "sub3 = int(input(\"Enter Subject3 Number out of 100 \"))\n",
    "sub4 = int(input(\"Enter Subject4 Number out of 100 \"))\n",
    "sub5 = int(input(\"Enter Subject5 Number out of 100 \"))\n",
    "\n",
    "totaksub = 5\n",
    "totalmarks = 500\n",
    "obtmarks = (sub1 + sub2 + sub3 + sub4 + sub5)\n",
    "percantage = obtmarks / totalmarks * 100\n",
    "\n",
    "if percantage >= 90:\n",
    "    grade = \"A+\"\n",
    "elif percantage >= 80:\n",
    "    grade = \"A\"\n",
    "elif percantage >= 70:\n",
    "    grade = \"B\"\n",
    "elif percantage >= 60:\n",
    "    grade = \"C\"\n",
    "elif percantage >= 50:\n",
    "    grade = \"D\"\n",
    "else:\n",
    "     grade = \"F\"\n",
    "\n",
    "\n",
    "\n",
    "print(\"Name: \" + sname)\n",
    "print(\"Father Name: \" + fname)\n",
    "print(\"Roll Number: \" + str(rollnum))\n",
    "print(\"Obtain Marks \" + str(obtmarks))\n",
    "print(\"Percantage: \" + str(percantage)) \n",
    "print(\"Grade: \" + str(grade)) \n",
    "\n"
   ]
  },
  {
   "cell_type": "markdown",
   "id": "95b8b94b",
   "metadata": {},
   "source": [
    "# 12. Testing sets of conditions"
   ]
  },
  {
   "cell_type": "markdown",
   "id": "f10b4f7d",
   "metadata": {},
   "source": [
    "## and return True only if all input conditions are True\n",
    "## or rerurn True if either of the condition is True \n",
    "## not return in iversion of the input"
   ]
  },
  {
   "cell_type": "code",
   "execution_count": 8,
   "id": "9a55898c",
   "metadata": {},
   "outputs": [
    {
     "data": {
      "text/plain": [
       "True"
      ]
     },
     "execution_count": 8,
     "metadata": {},
     "output_type": "execute_result"
    }
   ],
   "source": [
    "True and True\n"
   ]
  },
  {
   "cell_type": "code",
   "execution_count": 7,
   "id": "8ce88560",
   "metadata": {},
   "outputs": [
    {
     "data": {
      "text/plain": [
       "False"
      ]
     },
     "execution_count": 7,
     "metadata": {},
     "output_type": "execute_result"
    }
   ],
   "source": [
    "True and False"
   ]
  },
  {
   "cell_type": "code",
   "execution_count": 9,
   "id": "94cbe7e5",
   "metadata": {},
   "outputs": [
    {
     "data": {
      "text/plain": [
       "False"
      ]
     },
     "execution_count": 9,
     "metadata": {},
     "output_type": "execute_result"
    }
   ],
   "source": [
    "False and True"
   ]
  },
  {
   "cell_type": "code",
   "execution_count": 10,
   "id": "84b6f27a",
   "metadata": {},
   "outputs": [
    {
     "data": {
      "text/plain": [
       "True"
      ]
     },
     "execution_count": 10,
     "metadata": {},
     "output_type": "execute_result"
    }
   ],
   "source": [
    "False or (not False)"
   ]
  },
  {
   "cell_type": "code",
   "execution_count": 11,
   "id": "4bcd8f62",
   "metadata": {},
   "outputs": [
    {
     "data": {
      "text/plain": [
       "True"
      ]
     },
     "execution_count": 11,
     "metadata": {},
     "output_type": "execute_result"
    }
   ],
   "source": [
    "True or False"
   ]
  },
  {
   "cell_type": "markdown",
   "id": "ddceb59b",
   "metadata": {},
   "source": [
    "# 13. if statements nested"
   ]
  },
  {
   "cell_type": "code",
   "execution_count": 14,
   "id": "b0da823c",
   "metadata": {},
   "outputs": [
    {
     "name": "stdout",
     "output_type": "stream",
     "text": [
      "per80\n",
      "E for Pre-Eng, M for Pre-MedM\n",
      "Eligible for Dow\n"
     ]
    }
   ],
   "source": [
    "per = float(input(\"Percentage! \"))\n",
    "sub = input('E for Pre-Eng, M for Pre-Med')\n",
    "\n",
    "if per >= 80 and sub == 'E':\n",
    "    print(\"You can go to NED\")\n",
    "    \n",
    "elif per >=70 and sub == 'E':\n",
    "    print(\"You can go to KU\")\n",
    "    \n",
    "elif per >= 80 and sub == 'M':\n",
    "    print(\"Eligible for Dow\")\n",
    "    \n",
    "elif per >=70 and sub == 'M':\n",
    "    print(\"Eligible for SMC\")\n",
    "    \n",
    "else:\n",
    "    print(\"You can join private Uni\")"
   ]
  },
  {
   "cell_type": "code",
   "execution_count": 1,
   "id": "bfc3fbb5",
   "metadata": {},
   "outputs": [
    {
     "ename": "SyntaxError",
     "evalue": "invalid syntax (2176833713.py, line 14)",
     "output_type": "error",
     "traceback": [
      "\u001b[1;36m  Input \u001b[1;32mIn [1]\u001b[1;36m\u001b[0m\n\u001b[1;33m    elif age >=18 and salary_per_month == 0 and age <=22 gender == 'M':\u001b[0m\n\u001b[1;37m                                                         ^\u001b[0m\n\u001b[1;31mSyntaxError\u001b[0m\u001b[1;31m:\u001b[0m invalid syntax\n"
     ]
    }
   ],
   "source": [
    "age = int(input(\"What is your Age \"))\n",
    "gender = input(\"Specify Gender M/F \")\n",
    "salary_per_month = float(input(\"Enter your salary ($) \"))\n",
    "\n",
    "if age < 18:\n",
    "    print(\"Under Age! \")\n",
    "\n",
    "elif age >=60:\n",
    "    print('Issue Life time Card')\n",
    "\n",
    "elif age >= 18 and salary_per_month >= 100000:\n",
    "    print('Issue short Expiry Card')\n",
    "    \n",
    "elif age >=18 and salary_per_month == 0 and age <=22 gender == 'M':\n",
    "    print('Issue a longer Expiry Card')\n",
    "    \n",
    "elif age >=18 and salary_per_month == 0 and age <=22 gender == 'F':\n",
    "    print('Issue a longer Expiry Card')\n",
    "\n",
    "else:\n",
    "    print('Issue a longer Expiry Card')"
   ]
  },
  {
   "cell_type": "code",
   "execution_count": 3,
   "id": "043d17c6",
   "metadata": {},
   "outputs": [
    {
     "name": "stdout",
     "output_type": "stream",
     "text": [
      "What is your Age 23\n",
      "Specify Gender M/F M\n",
      "Enter your salary ($) 4224252\n"
     ]
    }
   ],
   "source": [
    "age = int(input(\"What is your Age \"))\n",
    "gender = input(\"Specify Gender M/F \")\n",
    "salary_per_month = float(input(\"Enter your salary ($) \"))\n",
    "\n",
    "if age <17:\n",
    "        print(\"Under age\")\n",
    "        \n",
    "elif gender == 'M':\n",
    "    \n",
    "    if age <30 and salary_per_month == 0:\n",
    "        print('Issue short Expiry Card')\n",
    "    \n",
    "    \n",
    "\n",
    "else:\n",
    "    if age < 22:\n",
    "        print('Issue a longer Expiry Card')"
   ]
  },
  {
   "cell_type": "markdown",
   "id": "6070f9c5",
   "metadata": {},
   "source": []
  },
  {
   "cell_type": "code",
   "execution_count": null,
   "id": "ebea2428",
   "metadata": {},
   "outputs": [],
   "source": []
  },
  {
   "cell_type": "code",
   "execution_count": null,
   "id": "f122e1c9",
   "metadata": {},
   "outputs": [],
   "source": []
  },
  {
   "cell_type": "code",
   "execution_count": null,
   "id": "ccde8bf5",
   "metadata": {},
   "outputs": [],
   "source": []
  }
 ],
 "metadata": {
  "kernelspec": {
   "display_name": "Python 3 (ipykernel)",
   "language": "python",
   "name": "python3"
  },
  "language_info": {
   "codemirror_mode": {
    "name": "ipython",
    "version": 3
   },
   "file_extension": ".py",
   "mimetype": "text/x-python",
   "name": "python",
   "nbconvert_exporter": "python",
   "pygments_lexer": "ipython3",
   "version": "3.9.12"
  }
 },
 "nbformat": 4,
 "nbformat_minor": 5
}
