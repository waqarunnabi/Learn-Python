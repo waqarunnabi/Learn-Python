{
 "cells": [
  {
   "cell_type": "code",
   "execution_count": 1,
   "id": "742fb32c",
   "metadata": {},
   "outputs": [
    {
     "name": "stdout",
     "output_type": "stream",
     "text": [
      "hello world\n"
     ]
    }
   ],
   "source": [
    "print(\"hello world\")"
   ]
  },
  {
   "cell_type": "markdown",
   "id": "fe16511c",
   "metadata": {},
   "source": [
    "# pwd uit91258"
   ]
  },
  {
   "cell_type": "markdown",
   "id": "153bcfe8",
   "metadata": {},
   "source": [
    "# smarte way to learn python"
   ]
  },
  {
   "cell_type": "markdown",
   "id": "c1fb06a4",
   "metadata": {},
   "source": [
    "\n",
    "      2 gb data\n",
    "      8 gb gb\n",
    "      ram speed 1333mhz\n",
    "      processor 2000 mhz\n",
    "      64 bit\n",
    "      \n",
    "      how much time?\n",
    "      \n",
    "      16 gb"
   ]
  },
  {
   "cell_type": "markdown",
   "id": "78572465",
   "metadata": {},
   "source": [
    "* 3mb pixel (how much memory it will take, for applying machine learning)\n",
    "* 1 pixel will 3 byte (one for each color)"
   ]
  },
  {
   "cell_type": "markdown",
   "id": "0eb8405e",
   "metadata": {},
   "source": [
    "data, instruction and model. 3 things in programs"
   ]
  },
  {
   "cell_type": "code",
   "execution_count": null,
   "id": "ea9e92b2",
   "metadata": {},
   "outputs": [],
   "source": []
  },
  {
   "cell_type": "code",
   "execution_count": null,
   "id": "be40ea63",
   "metadata": {},
   "outputs": [],
   "source": []
  }
 ],
 "metadata": {
  "kernelspec": {
   "display_name": "Python 3 (ipykernel)",
   "language": "python",
   "name": "python3"
  },
  "language_info": {
   "codemirror_mode": {
    "name": "ipython",
    "version": 3
   },
   "file_extension": ".py",
   "mimetype": "text/x-python",
   "name": "python",
   "nbconvert_exporter": "python",
   "pygments_lexer": "ipython3",
   "version": "3.9.12"
  }
 },
 "nbformat": 4,
 "nbformat_minor": 5
}
